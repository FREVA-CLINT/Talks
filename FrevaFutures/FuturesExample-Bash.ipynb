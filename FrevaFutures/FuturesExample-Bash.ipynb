{
 "cells": [
  {
   "cell_type": "markdown",
   "id": "b40ac9f0-a931-4b6c-af0f-4e3c6015043f",
   "metadata": {
    "slideshow": {
     "slide_type": "slide"
    },
    "tags": []
   },
   "source": [
    "# Registering a dataset that will exist in the future (cli version)"
   ]
  },
  {
   "cell_type": "code",
   "execution_count": 16,
   "id": "35920bae",
   "metadata": {
    "slideshow": {
     "slide_type": "skip"
    }
   },
   "outputs": [],
   "source": [
    "# Delete anything from the databrowser with futures\n",
    "/home/b/b380001/freva/sbin/data-crawler solr del --facet dataset futures --facet file 'future:///*' \\\n",
    "-s regiklim-dev.dkrz.de:8983 -c work/ch1187/clint/freva-dev/freva/"
   ]
  },
  {
   "cell_type": "markdown",
   "id": "f8612bde",
   "metadata": {
    "slideshow": {
     "slide_type": "slide"
    }
   },
   "source": [
    "## Here we use a freva plugin run that has been applied"
   ]
  },
  {
   "cell_type": "code",
   "execution_count": 17,
   "id": "0606ba9c-dc40-4cc7-bc24-b7ab7b5d1b73",
   "metadata": {
    "slideshow": {
     "slide_type": "-"
    },
    "tags": []
   },
   "outputs": [
    {
     "name": "stdout",
     "output_type": "stream",
     "text": [
      "\u001b[0m\n"
     ]
    }
   ],
   "source": [
    "freva-futures register --from-id 3085"
   ]
  },
  {
   "cell_type": "markdown",
   "id": "fda38f35-b941-4bf4-a023-931be0171e00",
   "metadata": {
    "slideshow": {
     "slide_type": "slide"
    },
    "tags": []
   },
   "source": [
    "## Let's search for the data"
   ]
  },
  {
   "cell_type": "code",
   "execution_count": 18,
   "id": "da20b295-f6f9-4196-99fd-3de69fc5249e",
   "metadata": {
    "slideshow": {
     "slide_type": "-"
    },
    "tags": []
   },
   "outputs": [
    {
     "name": "stdout",
     "output_type": "stream",
     "text": [
      "future:///scratch/b/b380001/futures/6def5135a687932d27f419a3e993b5bd68aa03425ff0378cfb7745c0aef497a5/cmip5/output1/mpi-m/mpi-esm-lr/historical/yr/atmos/1day/r1i1p1/tx90pETCCDI/tx90pETCCDI_1day_mpi-esm-lr_historical_r1i1p1_199007020000-199207011200\n",
      "\u001b[0m\n"
     ]
    }
   ],
   "source": [
    "freva-databrowser variable=tx90petccdi"
   ]
  },
  {
   "cell_type": "markdown",
   "id": "b0de5e6c-417f-4cf0-98e4-78ad308e2ae6",
   "metadata": {
    "slideshow": {
     "slide_type": "slide"
    }
   },
   "source": [
    "## The  data doesn't exist yet, but can be created on demand:"
   ]
  },
  {
   "cell_type": "code",
   "execution_count": 20,
   "id": "5f74b885-023b-4b64-8dc7-115946b60443",
   "metadata": {
    "slideshow": {
     "slide_type": "-"
    },
    "tags": []
   },
   "outputs": [
    {
     "name": "stdout",
     "output_type": "stream",
     "text": [
      "\u001b[2K⛈  Executing futures ... ok\n",
      "\u001b[?25h/scratch/b/b380001/futures/6def5135a687932d27f419a3e993b5bd68aa03425ff0378cfb7745c0aef497a5/cmip5/output1/mpi-m/mpi-esm-lr/historical/yr/atmos/yr/r1i1p1/v20230911/tx90pETCCDI/tx90pETCCDI_yr_mpi-esm-lr_historical_r1i1p1_199007020000-199207011200.nc\n",
      "\u001b[0m\n"
     ]
    }
   ],
   "source": [
    "freva-databrowser variable=tx90petccdi --execute-future"
   ]
  },
  {
   "cell_type": "markdown",
   "id": "00700f7a",
   "metadata": {
    "slideshow": {
     "slide_type": "slide"
    }
   },
   "source": [
    "### The data has bee loaded, we can work with it:"
   ]
  },
  {
   "cell_type": "code",
   "execution_count": 21,
   "id": "ce4cf720-b472-49b6-bce8-d0bc48898686",
   "metadata": {
    "slideshow": {
     "slide_type": "-"
    },
    "tags": []
   },
   "outputs": [
    {
     "name": "stdout",
     "output_type": "stream",
     "text": [
      "netcdf tx90pETCCDI_yr_mpi-esm-lr_historical_r1i1p1_199007020000-199207011200 {\n",
      "dimensions:\n",
      "\ttime = UNLIMITED ; // (3 currently)\n",
      "\tbnds = 2 ;\n",
      "\tlon = 192 ;\n",
      "\tlat = 96 ;\n",
      "variables:\n",
      "\tdouble time(time) ;\n",
      "\t\ttime:standard_name = \"time\" ;\n",
      "\t\ttime:long_name = \"time\" ;\n",
      "\t\ttime:bounds = \"time_bnds\" ;\n",
      "\t\ttime:units = \"days since 1850-1-1\" ;\n",
      "\t\ttime:calendar = \"proleptic_gregorian\" ;\n",
      "\t\ttime:axis = \"T\" ;\n",
      "\tdouble time_bnds(time, bnds) ;\n",
      "\tdouble lon(lon) ;\n",
      "\t\tlon:standard_name = \"longitude\" ;\n",
      "\t\tlon:long_name = \"longitude\" ;\n",
      "\t\tlon:units = \"degrees_east\" ;\n",
      "\t\tlon:axis = \"X\" ;\n",
      "\tdouble lat(lat) ;\n",
      "\t\tlat:standard_name = \"latitude\" ;\n",
      "\t\tlat:long_name = \"latitude\" ;\n",
      "\t\tlat:units = \"degrees_north\" ;\n",
      "\t\tlat:axis = \"Y\" ;\n",
      "\tdouble height ;\n",
      "\t\theight:standard_name = \"height\" ;\n",
      "\t\theight:long_name = \"height\" ;\n",
      "\t\theight:units = \"m\" ;\n",
      "\t\theight:positive = \"up\" ;\n",
      "\t\theight:axis = \"Z\" ;\n",
      "\tfloat tx90pETCCDI(time, lat, lon) ;\n",
      "\t\ttx90pETCCDI:long_name = \"Percentage of Days when Daily Maximum Temperature is Above the 90th Percentile\" ;\n",
      "\t\ttx90pETCCDI:units = \"%\" ;\n",
      "\t\ttx90pETCCDI:coordinates = \"height\" ;\n",
      "\t\ttx90pETCCDI:_FillValue = 1.e+20f ;\n",
      "\t\ttx90pETCCDI:missing_value = 1.e+20f ;\n",
      "\t\ttx90pETCCDI:cell_methods = \"time: maximum\" ;\n",
      "\t\ttx90pETCCDI:cell_measures = \"area: areacella\" ;\n",
      "\t\ttx90pETCCDI:associated_files = \"baseURL: http://cmip-pcmdi.llnl.gov/CMIP5/dataLocation gridspecFile: gridspec_atmos_fx_MPI-ESM-LR_historical_r0i0p0.nc areacella: areacella_fx_MPI-ESM-LR_historical_r0i0p0.nc\" ;\n",
      "\t\ttx90pETCCDI:history = \"Created by climdex.pcic 1.1.11 on Mon Sep 11 22:56:04 2023\" ;\n",
      "\t\ttx90pETCCDI:base_period = \"1991-1991\" ;\n",
      "\n",
      "// global attributes:\n",
      "\t\t:CDI = \"Climate Data Interface version 2.0.5 (https://mpimet.mpg.de/cdi)\" ;\n",
      "\t\t:Conventions = \"CF-1.4\" ;\n",
      "\t\t:source = \"MPI-ESM-LR 2011; URL: http://svn.zmaw.de/svn/cosmos/branches/releases/mpi-esm-cmip5/src/mod; atmosphere: ECHAM6 (REV: 4603), T63L47; land: JSBACH (REV: 4603); ocean: MPIOM (REV: 4603), GR15L40; sea ice: 4603; marine bgc: HAMOCC (REV: 4603);\" ;\n",
      "\t\t:institution = \"Max Planck Institute for Meteorology\" ;\n",
      "\t\t:institute_id = \"MPI-M\" ;\n",
      "\t\t:experiment_id = \"historical\" ;\n",
      "\t\t:model_id = \"MPI-ESM-LR\" ;\n",
      "\t\t:forcing = \"GHG Oz SD Sl Vl LU\" ;\n",
      "\t\t:parent_experiment_id = \"piControl\" ;\n",
      "\t\t:parent_experiment_rip = \"r1i1p1\" ;\n",
      "\t\t:branch_time = 10957. ;\n",
      "\t\t:contact = \"k204230\" ;\n",
      "\t\t:history = \"Mon Sep 11 22:57:18 2023: cdo -s setlevel,0 cachedir/3101/tx90pETCCDI_yr_MPI-ESM-LR_historical_r1i1p1_1990-1992.nc outdir/3101/cmip5/output1/mpi-m/mpi-esm-lr/historical/yr/atmos/tx90petccdi/r1i1p1//tx90petccdi_yr_mpi-esm-lr_historical_r1i1p1_1990-1992.nc\\nMon Sep 11 22:55:29 2023: cdo -s -f nc4 -remapbil,global_1.875 cachedir/3101/merge/tasmax/tasmax_day_MPI-ESM-LR_historical_r1i1p1_19900101-19921231.nc cachedir/3101/merge/tasmax/tmp.nc\\nMon Sep 11 22:55:29 2023: cdo -s selyear,1990/1992 cachedir/3101/merge/tasmax/merged.nc cachedir/3101/merge/tasmax/sel-merged.nc\\nMon Sep 11 22:55:26 2023: cdo -O -s mergetime /work/kd0956/CMIP5/data/cmip5/output1/MPI-M/MPI-ESM-LR/historical/day/atmos/day/r1i1p1/v20111006/tasmax/tasmax_day_MPI-ESM-LR_historical_r1i1p1_19900101-19991231.nc cachedir/3101/merge/tasmax/merged.nc\\nModel raw output postprocessing with modelling environment (IMDI) at DKRZ: URL: http://svn-mad.zmaw.de/svn/mad/Model/IMDI/trunk, REV: 3185 2011-05-28T07:10:01Z CMOR rewrote data to comply with CF standards and CMIP5 requirements.\" ;\n",
      "\t\t:references = \"ECHAM6: n/a; JSBACH: Raddatz et al., 2007. Will the tropical land biosphere dominate the climate-carbon cycle feedback during the twenty first century? Climate Dynamics, 29, 565-574, doi 10.1007/s00382-007-0247-8;  MPIOM: Marsland et al., 2003. The Max-Planck-Institute global ocean/sea ice model with orthogonal curvilinear coordinates. Ocean Modelling, 5, 91-127;  HAMOCC: http://www.mpimet.mpg.de/fileadmin/models/MPIOM/HAMOCC5.1_TECHNICAL_REPORT.pdf;\" ;\n",
      "\t\t:initialization_method = 1 ;\n",
      "\t\t:physics_version = 1 ;\n",
      "\t\t:input_tracking_id = \"a8852ce6-e2c4-401b-a28b-566c1d5c733b\" ;\n",
      "\t\t:product = \"output\" ;\n",
      "\t\t:experiment = \"historical\" ;\n",
      "\t\t:input_frequency = \"day\" ;\n",
      "\t\t:input_creation_date = \"2011-05-28T07:10:01Z\" ;\n",
      "\t\t:project_id = \"CMIP5\" ;\n",
      "\t\t:table_id = \"Table day (27 April 2011) 86d1558d99b6ed1e7a886ab3fd717b58\" ;\n",
      "\t\t:input_title = \"MPI-ESM-LR model output prepared for CMIP5 historical\" ;\n",
      "\t\t:parent_experiment = \"pre-industrial control\" ;\n",
      "\t\t:modeling_realm = \"atmos\" ;\n",
      "\t\t:realization = 1 ;\n",
      "\t\t:cmor_version = \"2.5.9\" ;\n",
      "\t\t:ETCCDI_institution = \"UNSW Australia & FUB Berlin\" ;\n",
      "\t\t:ETCCDI_institution_id = \"UNSW-CCRC,FUB-IfM\" ;\n",
      "\t\t:ETCCDI_software = \"climdex.pcic\" ;\n",
      "\t\t:ETCCDI_software_version = \"1.1.11\" ;\n",
      "\t\t:frequency = \"yr\" ;\n",
      "\t\t:creation_date = \"2023-09-11T20:56:04Z\" ;\n",
      "\t\t:title = \"ETCCDI indices computed on MPI-ESM-LR model output prepared for CMIP5 historical\" ;\n",
      "\t\t:CDO = \"Climate Data Operators version 2.0.5 (https://mpimet.mpg.de/cdo)\" ;\n",
      "}\n"
     ]
    }
   ],
   "source": [
    "ncdump -h /scratch/b/b380001/futures/6def5135a687932d27f419a3e993b5bd68aa03425ff0378cfb7745c0aef497a5/cmip5/output1/mpi-m/mpi-esm-lr/historical/yr/atmos/yr/r1i1p1/v20230911/tx90pETCCDI/tx90pETCCDI_yr_mpi-esm-lr_historical_r1i1p1_199007020000-199207011200.nc"
   ]
  },
  {
   "cell_type": "markdown",
   "id": "8a9be89c-ac03-4e51-9cb0-65bb4af02b81",
   "metadata": {
    "slideshow": {
     "slide_type": "slide"
    }
   },
   "source": [
    "## What happens if the data get's lost?\n",
    "\n",
    "Let's delete the data:"
   ]
  },
  {
   "cell_type": "code",
   "execution_count": 23,
   "id": "d8731d29-47af-48d5-9f23-ded8d31ad269",
   "metadata": {
    "slideshow": {
     "slide_type": "-"
    },
    "tags": []
   },
   "outputs": [],
   "source": [
    "rm -fr /scratch/b/b380001/futures/6def5135a687932d27f419a3e993b5bd68aa03425ff0378cfb7745c0aef497a5"
   ]
  },
  {
   "cell_type": "markdown",
   "id": "b628542d",
   "metadata": {},
   "source": [
    "The data is still in the databrowser:"
   ]
  },
  {
   "cell_type": "code",
   "execution_count": 24,
   "id": "34ee1fbe-9a67-4342-93c9-06fcabf56573",
   "metadata": {
    "slideshow": {
     "slide_type": "-"
    },
    "tags": []
   },
   "outputs": [
    {
     "name": "stdout",
     "output_type": "stream",
     "text": [
      "/scratch/b/b380001/futures/6def5135a687932d27f419a3e993b5bd68aa03425ff0378cfb7745c0aef497a5/cmip5/output1/mpi-m/mpi-esm-lr/historical/yr/atmos/yr/r1i1p1/v20230911/tx90pETCCDI/tx90pETCCDI_yr_mpi-esm-lr_historical_r1i1p1_199007020000-199207011200.nc\n",
      "\u001b[0m\n"
     ]
    }
   ],
   "source": [
    "freva-databrowser variable=tx90petccdi"
   ]
  },
  {
   "cell_type": "markdown",
   "id": "5d8604c6-a208-4595-b70b-289fd010a4e6",
   "metadata": {
    "slideshow": {
     "slide_type": "slide"
    }
   },
   "source": [
    "Because of that the data can be re-created:"
   ]
  },
  {
   "cell_type": "code",
   "execution_count": 25,
   "id": "666b5193-a70f-4e8d-a063-05097c6e5e04",
   "metadata": {
    "slideshow": {
     "slide_type": "-"
    },
    "tags": []
   },
   "outputs": [
    {
     "name": "stdout",
     "output_type": "stream",
     "text": [
      "\u001b[2K🌤  Executing futures ... ok\n",
      "\u001b[?25h/scratch/b/b380001/futures/6def5135a687932d27f419a3e993b5bd68aa03425ff0378cfb7745c0aef497a5/cmip5/output1/mpi-m/mpi-esm-lr/historical/yr/atmos/yr/r1i1p1/v20230911/tx90pETCCDI/tx90pETCCDI_yr_mpi-esm-lr_historical_r1i1p1_199007020000-199207011200.nc\n",
      "\u001b[0m\n"
     ]
    }
   ],
   "source": [
    "freva-databrowser variable=tx90petccdi --execute-future"
   ]
  },
  {
   "cell_type": "code",
   "execution_count": 26,
   "id": "2852d1de",
   "metadata": {
    "slideshow": {
     "slide_type": "-"
    }
   },
   "outputs": [
    {
     "name": "stdout",
     "output_type": "stream",
     "text": [
      "netcdf tx90pETCCDI_yr_mpi-esm-lr_historical_r1i1p1_199007020000-199207011200 {\n",
      "dimensions:\n",
      "\ttime = UNLIMITED ; // (3 currently)\n",
      "\tbnds = 2 ;\n",
      "\tlon = 192 ;\n",
      "\tlat = 96 ;\n",
      "variables:\n",
      "\tdouble time(time) ;\n",
      "\t\ttime:standard_name = \"time\" ;\n",
      "\t\ttime:long_name = \"time\" ;\n",
      "\t\ttime:bounds = \"time_bnds\" ;\n",
      "\t\ttime:units = \"days since 1850-1-1\" ;\n",
      "\t\ttime:calendar = \"proleptic_gregorian\" ;\n",
      "\t\ttime:axis = \"T\" ;\n",
      "\tdouble time_bnds(time, bnds) ;\n",
      "\tdouble lon(lon) ;\n",
      "\t\tlon:standard_name = \"longitude\" ;\n",
      "\t\tlon:long_name = \"longitude\" ;\n",
      "\t\tlon:units = \"degrees_east\" ;\n",
      "\t\tlon:axis = \"X\" ;\n",
      "\tdouble lat(lat) ;\n",
      "\t\tlat:standard_name = \"latitude\" ;\n",
      "\t\tlat:long_name = \"latitude\" ;\n",
      "\t\tlat:units = \"degrees_north\" ;\n",
      "\t\tlat:axis = \"Y\" ;\n",
      "\tdouble height ;\n",
      "\t\theight:standard_name = \"height\" ;\n",
      "\t\theight:long_name = \"height\" ;\n",
      "\t\theight:units = \"m\" ;\n",
      "\t\theight:positive = \"up\" ;\n",
      "\t\theight:axis = \"Z\" ;\n",
      "\tfloat tx90pETCCDI(time, lat, lon) ;\n",
      "\t\ttx90pETCCDI:long_name = \"Percentage of Days when Daily Maximum Temperature is Above the 90th Percentile\" ;\n",
      "\t\ttx90pETCCDI:units = \"%\" ;\n",
      "\t\ttx90pETCCDI:coordinates = \"height\" ;\n",
      "\t\ttx90pETCCDI:_FillValue = 1.e+20f ;\n",
      "\t\ttx90pETCCDI:missing_value = 1.e+20f ;\n",
      "\t\ttx90pETCCDI:cell_methods = \"time: maximum\" ;\n",
      "\t\ttx90pETCCDI:cell_measures = \"area: areacella\" ;\n",
      "\t\ttx90pETCCDI:associated_files = \"baseURL: http://cmip-pcmdi.llnl.gov/CMIP5/dataLocation gridspecFile: gridspec_atmos_fx_MPI-ESM-LR_historical_r0i0p0.nc areacella: areacella_fx_MPI-ESM-LR_historical_r0i0p0.nc\" ;\n",
      "\t\ttx90pETCCDI:history = \"Created by climdex.pcic 1.1.11 on Mon Sep 11 22:58:47 2023\" ;\n",
      "\t\ttx90pETCCDI:base_period = \"1991-1991\" ;\n",
      "\n",
      "// global attributes:\n",
      "\t\t:CDI = \"Climate Data Interface version 2.0.5 (https://mpimet.mpg.de/cdi)\" ;\n",
      "\t\t:Conventions = \"CF-1.4\" ;\n",
      "\t\t:source = \"MPI-ESM-LR 2011; URL: http://svn.zmaw.de/svn/cosmos/branches/releases/mpi-esm-cmip5/src/mod; atmosphere: ECHAM6 (REV: 4603), T63L47; land: JSBACH (REV: 4603); ocean: MPIOM (REV: 4603), GR15L40; sea ice: 4603; marine bgc: HAMOCC (REV: 4603);\" ;\n",
      "\t\t:institution = \"Max Planck Institute for Meteorology\" ;\n",
      "\t\t:institute_id = \"MPI-M\" ;\n",
      "\t\t:experiment_id = \"historical\" ;\n",
      "\t\t:model_id = \"MPI-ESM-LR\" ;\n",
      "\t\t:forcing = \"GHG Oz SD Sl Vl LU\" ;\n",
      "\t\t:parent_experiment_id = \"piControl\" ;\n",
      "\t\t:parent_experiment_rip = \"r1i1p1\" ;\n",
      "\t\t:branch_time = 10957. ;\n",
      "\t\t:contact = \"k204230\" ;\n",
      "\t\t:history = \"Mon Sep 11 23:00:01 2023: cdo -s setlevel,0 cachedir/3102/tx90pETCCDI_yr_MPI-ESM-LR_historical_r1i1p1_1990-1992.nc outdir/3102/cmip5/output1/mpi-m/mpi-esm-lr/historical/yr/atmos/tx90petccdi/r1i1p1//tx90petccdi_yr_mpi-esm-lr_historical_r1i1p1_1990-1992.nc\\nMon Sep 11 22:58:14 2023: cdo -s -f nc4 -remapbil,global_1.875 cachedir/3102/merge/tasmax/tasmax_day_MPI-ESM-LR_historical_r1i1p1_19900101-19921231.nc cachedir/3102/merge/tasmax/tmp.nc\\nMon Sep 11 22:58:13 2023: cdo -s selyear,1990/1992 cachedir/3102/merge/tasmax/merged.nc cachedir/3102/merge/tasmax/sel-merged.nc\\nMon Sep 11 22:58:13 2023: cdo -O -s mergetime /work/kd0956/CMIP5/data/cmip5/output1/MPI-M/MPI-ESM-LR/historical/day/atmos/day/r1i1p1/v20111006/tasmax/tasmax_day_MPI-ESM-LR_historical_r1i1p1_19900101-19991231.nc cachedir/3102/merge/tasmax/merged.nc\\nModel raw output postprocessing with modelling environment (IMDI) at DKRZ: URL: http://svn-mad.zmaw.de/svn/mad/Model/IMDI/trunk, REV: 3185 2011-05-28T07:10:01Z CMOR rewrote data to comply with CF standards and CMIP5 requirements.\" ;\n",
      "\t\t:references = \"ECHAM6: n/a; JSBACH: Raddatz et al., 2007. Will the tropical land biosphere dominate the climate-carbon cycle feedback during the twenty first century? Climate Dynamics, 29, 565-574, doi 10.1007/s00382-007-0247-8;  MPIOM: Marsland et al., 2003. The Max-Planck-Institute global ocean/sea ice model with orthogonal curvilinear coordinates. Ocean Modelling, 5, 91-127;  HAMOCC: http://www.mpimet.mpg.de/fileadmin/models/MPIOM/HAMOCC5.1_TECHNICAL_REPORT.pdf;\" ;\n",
      "\t\t:initialization_method = 1 ;\n",
      "\t\t:physics_version = 1 ;\n",
      "\t\t:input_tracking_id = \"a8852ce6-e2c4-401b-a28b-566c1d5c733b\" ;\n",
      "\t\t:product = \"output\" ;\n",
      "\t\t:experiment = \"historical\" ;\n",
      "\t\t:input_frequency = \"day\" ;\n",
      "\t\t:input_creation_date = \"2011-05-28T07:10:01Z\" ;\n",
      "\t\t:project_id = \"CMIP5\" ;\n",
      "\t\t:table_id = \"Table day (27 April 2011) 86d1558d99b6ed1e7a886ab3fd717b58\" ;\n",
      "\t\t:input_title = \"MPI-ESM-LR model output prepared for CMIP5 historical\" ;\n",
      "\t\t:parent_experiment = \"pre-industrial control\" ;\n",
      "\t\t:modeling_realm = \"atmos\" ;\n",
      "\t\t:realization = 1 ;\n",
      "\t\t:cmor_version = \"2.5.9\" ;\n",
      "\t\t:ETCCDI_institution = \"UNSW Australia & FUB Berlin\" ;\n",
      "\t\t:ETCCDI_institution_id = \"UNSW-CCRC,FUB-IfM\" ;\n",
      "\t\t:ETCCDI_software = \"climdex.pcic\" ;\n",
      "\t\t:ETCCDI_software_version = \"1.1.11\" ;\n",
      "\t\t:frequency = \"yr\" ;\n",
      "\t\t:creation_date = \"2023-09-11T20:58:47Z\" ;\n",
      "\t\t:title = \"ETCCDI indices computed on MPI-ESM-LR model output prepared for CMIP5 historical\" ;\n",
      "\t\t:CDO = \"Climate Data Operators version 2.0.5 (https://mpimet.mpg.de/cdo)\" ;\n",
      "}\n"
     ]
    }
   ],
   "source": [
    "ncdump -h /scratch/b/b380001/futures/6def5135a687932d27f419a3e993b5bd68aa03425ff0378cfb7745c0aef497a5/cmip5/output1/mpi-m/mpi-esm-lr/historical/yr/atmos/yr/r1i1p1/v20230911/tx90pETCCDI/tx90pETCCDI_yr_mpi-esm-lr_historical_r1i1p1_199007020000-199207011200.nc"
   ]
  },
  {
   "cell_type": "code",
   "execution_count": null,
   "id": "b2cff836",
   "metadata": {},
   "outputs": [],
   "source": []
  }
 ],
 "metadata": {
  "celltoolbar": "Slideshow",
  "kernelspec": {
   "display_name": "freva-dev-bash",
   "language": "bash",
   "name": "frev-dev-bash"
  },
  "language_info": {
   "codemirror_mode": "shell",
   "file_extension": ".sh",
   "mimetype": "text/x-sh",
   "name": "bash"
  },
  "widgets": {
   "application/vnd.jupyter.widget-state+json": {
    "state": {
     "2286aa25721f441b8f22cbdcce4c6bab": {
      "model_module": "@jupyter-widgets/output",
      "model_module_version": "1.0.0",
      "model_name": "OutputModel",
      "state": {
       "layout": "IPY_MODEL_fb04cb54a3204412a958a0055e186784",
       "outputs": [
        {
         "data": {
          "text/html": "<pre style=\"white-space:pre;overflow-x:auto;line-height:normal;font-family:Menlo,'DejaVu Sans Mono',consolas,'Courier New',monospace\">⛈  Executing futures ...\n</pre>\n",
          "text/plain": "⛈  Executing futures ...\n"
         },
         "metadata": {},
         "output_type": "display_data"
        }
       ]
      }
     },
     "61acf91180514d5e803f091435c1612e": {
      "model_module": "@jupyter-widgets/output",
      "model_module_version": "1.0.0",
      "model_name": "OutputModel",
      "state": {
       "layout": "IPY_MODEL_9c18d70ab886442f9112929e378411d7",
       "outputs": [
        {
         "data": {
          "text/html": "<pre style=\"white-space:pre;overflow-x:auto;line-height:normal;font-family:Menlo,'DejaVu Sans Mono',consolas,'Courier New',monospace\">⛈  Executing futures ...\n</pre>\n",
          "text/plain": "⛈  Executing futures ...\n"
         },
         "metadata": {},
         "output_type": "display_data"
        }
       ]
      }
     },
     "9c18d70ab886442f9112929e378411d7": {
      "model_module": "@jupyter-widgets/base",
      "model_module_version": "2.0.0",
      "model_name": "LayoutModel",
      "state": {}
     },
     "c7825b1332ed4b48a784b88ef87270fd": {
      "model_module": "@jupyter-widgets/base",
      "model_module_version": "2.0.0",
      "model_name": "LayoutModel",
      "state": {}
     },
     "dd49267695d047eab2d5432fa1ed7041": {
      "model_module": "@jupyter-widgets/output",
      "model_module_version": "1.0.0",
      "model_name": "OutputModel",
      "state": {
       "layout": "IPY_MODEL_c7825b1332ed4b48a784b88ef87270fd",
       "outputs": [
        {
         "data": {
          "text/html": "<pre style=\"white-space:pre;overflow-x:auto;line-height:normal;font-family:Menlo,'DejaVu Sans Mono',consolas,'Courier New',monospace\">🌧  Executing futures ...\n</pre>\n",
          "text/plain": "🌧  Executing futures ...\n"
         },
         "metadata": {},
         "output_type": "display_data"
        }
       ]
      }
     },
     "fb04cb54a3204412a958a0055e186784": {
      "model_module": "@jupyter-widgets/base",
      "model_module_version": "2.0.0",
      "model_name": "LayoutModel",
      "state": {}
     }
    },
    "version_major": 2,
    "version_minor": 0
   }
  }
 },
 "nbformat": 4,
 "nbformat_minor": 5
}
