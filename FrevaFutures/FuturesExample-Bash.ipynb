{
 "cells": [
  {
   "cell_type": "markdown",
   "id": "b40ac9f0-a931-4b6c-af0f-4e3c6015043f",
   "metadata": {
    "slideshow": {
     "slide_type": "slide"
    },
    "tags": []
   },
   "source": [
    "# Registering a dataset that will exist in the future (cli version)"
   ]
  },
  {
   "cell_type": "code",
   "execution_count": 1,
   "id": "35920bae",
   "metadata": {
    "slideshow": {
     "slide_type": "skip"
    },
    "tags": []
   },
   "outputs": [],
   "source": [
    "# Before we start delete anything from the databrowser with futures\n",
    "/home/b/b380001/freva/sbin/data-crawler solr del --facet dataset future \\\n",
    "-s regiklim-dev.dkrz.de:8983 -c /work/ch1187/clint/freva-dev/freva/"
   ]
  },
  {
   "cell_type": "markdown",
   "id": "f8612bde",
   "metadata": {
    "slideshow": {
     "slide_type": "slide"
    }
   },
   "source": [
    "## Here we use a freva plugin run that has been applied"
   ]
  },
  {
   "cell_type": "code",
   "execution_count": 2,
   "id": "0606ba9c-dc40-4cc7-bc24-b7ab7b5d1b73",
   "metadata": {
    "slideshow": {
     "slide_type": "-"
    },
    "tags": []
   },
   "outputs": [
    {
     "name": "stdout",
     "output_type": "stream",
     "text": [
      "\u001b[0m\n"
     ]
    }
   ],
   "source": [
    "freva-futures register --from-id 3085"
   ]
  },
  {
   "cell_type": "markdown",
   "id": "fda38f35-b941-4bf4-a023-931be0171e00",
   "metadata": {
    "slideshow": {
     "slide_type": "slide"
    },
    "tags": []
   },
   "source": [
    "## Let's search for the data"
   ]
  },
  {
   "cell_type": "code",
   "execution_count": 3,
   "id": "da20b295-f6f9-4196-99fd-3de69fc5249e",
   "metadata": {
    "slideshow": {
     "slide_type": "-"
    },
    "tags": []
   },
   "outputs": [
    {
     "name": "stdout",
     "output_type": "stream",
     "text": [
      "future:///scratch/b/b380001/futures/6def5135a687932d27f419a3e993b5bd68aa03425ff0378cfb7745c0aef497a5/cmip5/output1/mpi-m/mpi-esm-lr/historical/yr/atmos/1day/r1i1p1/tx90pETCCDI/tx90pETCCDI_1day_mpi-esm-lr_historical_r1i1p1_199007020000-199207011200\n",
      "\u001b[0m\n"
     ]
    }
   ],
   "source": [
    "freva-databrowser variable=tx90petccdi"
   ]
  },
  {
   "cell_type": "markdown",
   "id": "b0de5e6c-417f-4cf0-98e4-78ad308e2ae6",
   "metadata": {
    "slideshow": {
     "slide_type": "slide"
    }
   },
   "source": [
    "## The  data doesn't exist yet, but can be created on demand:"
   ]
  },
  {
   "cell_type": "code",
   "execution_count": 4,
   "id": "5f74b885-023b-4b64-8dc7-115946b60443",
   "metadata": {
    "slideshow": {
     "slide_type": "-"
    },
    "tags": []
   },
   "outputs": [
    {
     "name": "stdout",
     "output_type": "stream",
     "text": [
      "\u001b[2K🌧  Executing futures ... ok\n",
      "\u001b[?25h/scratch/b/b380001/futures/6def5135a687932d27f419a3e993b5bd68aa03425ff0378cfb7745c0aef497a5/cmip5/output1/mpi-m/mpi-esm-lr/historical/yr/atmos/yr/r1i1p1/v20230928/tx90pETCCDI/tx90pETCCDI_yr_mpi-esm-lr_historical_r1i1p1_199007020000-199207011200.nc\n",
      "\u001b[0m\n"
     ]
    }
   ],
   "source": [
    "freva-databrowser variable=tx90petccdi --execute-future"
   ]
  },
  {
   "cell_type": "markdown",
   "id": "00700f7a",
   "metadata": {
    "slideshow": {
     "slide_type": "slide"
    }
   },
   "source": [
    "### The data has been loaded, we can work with it:"
   ]
  },
  {
   "cell_type": "code",
   "execution_count": 6,
   "id": "ce4cf720-b472-49b6-bce8-d0bc48898686",
   "metadata": {
    "slideshow": {
     "slide_type": "-"
    },
    "tags": []
   },
   "outputs": [
    {
     "name": "stdout",
     "output_type": "stream",
     "text": [
      "netcdf tx90pETCCDI_yr_mpi-esm-lr_historical_r1i1p1_199007020000-199207011200 {\n",
      "dimensions:\n",
      "\ttime = UNLIMITED ; // (3 currently)\n",
      "\tbnds = 2 ;\n",
      "\tlon = 192 ;\n",
      "\tlat = 96 ;\n",
      "variables:\n",
      "\tdouble time(time) ;\n",
      "\t\ttime:standard_name = \"time\" ;\n",
      "\t\ttime:long_name = \"time\" ;\n",
      "\t\ttime:units = \"days since 1850-1-1\" ;\n",
      "\t\ttime:calendar = \"standard\" ;\n",
      "\t\ttime:axis = \"T\" ;\n",
      "\tdouble lon(lon) ;\n",
      "\t\tlon:standard_name = \"longitude\" ;\n",
      "\t\tlon:long_name = \"lon\" ;\n",
      "\t\tlon:units = \"degrees_east\" ;\n",
      "\t\tlon:axis = \"X\" ;\n",
      "\tdouble lat(lat) ;\n",
      "\t\tlat:standard_name = \"latitude\" ;\n",
      "\t\tlat:long_name = \"lat\" ;\n",
      "\t\tlat:units = \"degrees_north\" ;\n",
      "\t\tlat:axis = \"Y\" ;\n",
      "\tdouble time_bnds(time, bnds) ;\n",
      "\tfloat tx90pETCCDI(time, lat, lon) ;\n",
      "\t\ttx90pETCCDI:long_name = \"Percentage of Days when Daily Maximum Temperature is Above the 90th Percentile\" ;\n",
      "\t\ttx90pETCCDI:units = \"%\" ;\n",
      "\t\ttx90pETCCDI:CDI_grid_type = \"gaussian\" ;\n",
      "\t\ttx90pETCCDI:CDI_grid_num_LPE = 48 ;\n",
      "\t\ttx90pETCCDI:_FillValue = 1.e+20f ;\n",
      "\t\ttx90pETCCDI:missing_value = 1.e+20f ;\n",
      "\t\ttx90pETCCDI:history = \"Created by climdex.pcic 1.1.11 on Thu Sep 28 13:25:33 2023\" ;\n",
      "\t\ttx90pETCCDI:base_period = \"1991-1991\" ;\n",
      "\n",
      "// global attributes:\n",
      "\t\t:CDI = \"Climate Data Interface version 2.0.5 (https://mpimet.mpg.de/cdi)\" ;\n",
      "\t\t:Conventions = \"CF-1.4\" ;\n",
      "\t\t:institution = \"Max Planck Institute for Meteorology\" ;\n",
      "\t\t:ETCCDI_institution = \"UNSW Australia & FUB Berlin\" ;\n",
      "\t\t:ETCCDI_institution_id = \"UNSW-CCRC,FUB-IfM\" ;\n",
      "\t\t:ETCCDI_software = \"climdex.pcic\" ;\n",
      "\t\t:ETCCDI_software_version = \"1.1.11\" ;\n",
      "\t\t:contact = \"k204230\" ;\n",
      "\t\t:frequency = \"yr\" ;\n",
      "\t\t:creation_date = \"2023-09-28T11:25:33Z\" ;\n",
      "\t\t:title = \"ETCCDI indices computed on 0\" ;\n",
      "\t\t:history = \"Thu Sep 28 13:26:48 2023: cdo -s setlevel,0 cachedir/3115/tx90pETCCDI_yr_MPI-ESM-LR_historical_r1i1p1_1990-1992.nc outdir/3115/cmip5/output1/mpi-m/mpi-esm-lr/historical/yr/atmos/tx90petccdi/r1i1p1//tx90petccdi_yr_mpi-esm-lr_historical_r1i1p1_1990-1992.nc\" ;\n",
      "\t\t:CDO = \"Climate Data Operators version 2.0.5 (https://mpimet.mpg.de/cdo)\" ;\n",
      "}\n"
     ]
    }
   ],
   "source": [
    "ncdump -h /scratch/b/b380001/futures/6def5135a687932d27f419a3e993b5bd68aa03425ff0378cfb7745c0aef497a5/cmip5/output1/mpi-m/mpi-esm-lr/historical/yr/atmos/yr/r1i1p1/v20230928/tx90pETCCDI/tx90pETCCDI_yr_mpi-esm-lr_historical_r1i1p1_199007020000-199207011200.nc"
   ]
  },
  {
   "cell_type": "markdown",
   "id": "8a9be89c-ac03-4e51-9cb0-65bb4af02b81",
   "metadata": {
    "slideshow": {
     "slide_type": "slide"
    }
   },
   "source": [
    "## What happens if the data get's lost?\n",
    "\n",
    "Let's delete the data:"
   ]
  },
  {
   "cell_type": "code",
   "execution_count": 7,
   "id": "d8731d29-47af-48d5-9f23-ded8d31ad269",
   "metadata": {
    "slideshow": {
     "slide_type": "-"
    },
    "tags": []
   },
   "outputs": [],
   "source": [
    "rm -fr /scratch/b/b380001/futures/6def5135a687932d27f419a3e993b5bd68aa03425ff0378cfb7745c0aef497a5"
   ]
  },
  {
   "cell_type": "markdown",
   "id": "b628542d",
   "metadata": {},
   "source": [
    "The data is still in the databrowser:"
   ]
  },
  {
   "cell_type": "code",
   "execution_count": 8,
   "id": "34ee1fbe-9a67-4342-93c9-06fcabf56573",
   "metadata": {
    "slideshow": {
     "slide_type": "-"
    },
    "tags": []
   },
   "outputs": [
    {
     "name": "stdout",
     "output_type": "stream",
     "text": [
      "/scratch/b/b380001/futures/6def5135a687932d27f419a3e993b5bd68aa03425ff0378cfb7745c0aef497a5/cmip5/output1/mpi-m/mpi-esm-lr/historical/yr/atmos/yr/r1i1p1/v20230928/tx90pETCCDI/tx90pETCCDI_yr_mpi-esm-lr_historical_r1i1p1_199007020000-199207011200.nc\n",
      "\u001b[0m\n"
     ]
    }
   ],
   "source": [
    "freva-databrowser variable=tx90petccdi"
   ]
  },
  {
   "cell_type": "markdown",
   "id": "5d8604c6-a208-4595-b70b-289fd010a4e6",
   "metadata": {
    "slideshow": {
     "slide_type": "slide"
    }
   },
   "source": [
    "Because of that the data can be re-created:"
   ]
  },
  {
   "cell_type": "code",
   "execution_count": 9,
   "id": "666b5193-a70f-4e8d-a063-05097c6e5e04",
   "metadata": {
    "slideshow": {
     "slide_type": "-"
    },
    "tags": []
   },
   "outputs": [
    {
     "name": "stdout",
     "output_type": "stream",
     "text": [
      "\u001b[2K🌨  Executing futures ... ok\n",
      "\u001b[?25h/scratch/b/b380001/futures/6def5135a687932d27f419a3e993b5bd68aa03425ff0378cfb7745c0aef497a5/cmip5/output1/mpi-m/mpi-esm-lr/historical/yr/atmos/yr/r1i1p1/v20230928/tx90pETCCDI/tx90pETCCDI_yr_mpi-esm-lr_historical_r1i1p1_199007020000-199207011200.nc\n",
      "\u001b[0m\n"
     ]
    }
   ],
   "source": [
    "freva-databrowser variable=tx90petccdi --execute-future"
   ]
  },
  {
   "cell_type": "code",
   "execution_count": 10,
   "id": "2852d1de",
   "metadata": {
    "slideshow": {
     "slide_type": "-"
    },
    "tags": []
   },
   "outputs": [
    {
     "name": "stdout",
     "output_type": "stream",
     "text": [
      "netcdf tx90pETCCDI_yr_mpi-esm-lr_historical_r1i1p1_199007020000-199207011200 {\n",
      "dimensions:\n",
      "\ttime = UNLIMITED ; // (3 currently)\n",
      "\tbnds = 2 ;\n",
      "\tlon = 192 ;\n",
      "\tlat = 96 ;\n",
      "variables:\n",
      "\tdouble time(time) ;\n",
      "\t\ttime:standard_name = \"time\" ;\n",
      "\t\ttime:long_name = \"time\" ;\n",
      "\t\ttime:units = \"days since 1850-1-1\" ;\n",
      "\t\ttime:calendar = \"standard\" ;\n",
      "\t\ttime:axis = \"T\" ;\n",
      "\tdouble lon(lon) ;\n",
      "\t\tlon:standard_name = \"longitude\" ;\n",
      "\t\tlon:long_name = \"lon\" ;\n",
      "\t\tlon:units = \"degrees_east\" ;\n",
      "\t\tlon:axis = \"X\" ;\n",
      "\tdouble lat(lat) ;\n",
      "\t\tlat:standard_name = \"latitude\" ;\n",
      "\t\tlat:long_name = \"lat\" ;\n",
      "\t\tlat:units = \"degrees_north\" ;\n",
      "\t\tlat:axis = \"Y\" ;\n",
      "\tdouble time_bnds(time, bnds) ;\n",
      "\tfloat tx90pETCCDI(time, lat, lon) ;\n",
      "\t\ttx90pETCCDI:long_name = \"Percentage of Days when Daily Maximum Temperature is Above the 90th Percentile\" ;\n",
      "\t\ttx90pETCCDI:units = \"%\" ;\n",
      "\t\ttx90pETCCDI:CDI_grid_type = \"gaussian\" ;\n",
      "\t\ttx90pETCCDI:CDI_grid_num_LPE = 48 ;\n",
      "\t\ttx90pETCCDI:_FillValue = 1.e+20f ;\n",
      "\t\ttx90pETCCDI:missing_value = 1.e+20f ;\n",
      "\t\ttx90pETCCDI:history = \"Created by climdex.pcic 1.1.11 on Thu Sep 28 13:30:40 2023\" ;\n",
      "\t\ttx90pETCCDI:base_period = \"1991-1991\" ;\n",
      "\n",
      "// global attributes:\n",
      "\t\t:CDI = \"Climate Data Interface version 2.0.5 (https://mpimet.mpg.de/cdi)\" ;\n",
      "\t\t:Conventions = \"CF-1.4\" ;\n",
      "\t\t:institution = \"Max Planck Institute for Meteorology\" ;\n",
      "\t\t:ETCCDI_institution = \"UNSW Australia & FUB Berlin\" ;\n",
      "\t\t:ETCCDI_institution_id = \"UNSW-CCRC,FUB-IfM\" ;\n",
      "\t\t:ETCCDI_software = \"climdex.pcic\" ;\n",
      "\t\t:ETCCDI_software_version = \"1.1.11\" ;\n",
      "\t\t:contact = \"k204230\" ;\n",
      "\t\t:frequency = \"yr\" ;\n",
      "\t\t:creation_date = \"2023-09-28T11:30:40Z\" ;\n",
      "\t\t:title = \"ETCCDI indices computed on 0\" ;\n",
      "\t\t:history = \"Thu Sep 28 13:31:55 2023: cdo -s setlevel,0 cachedir/3116/tx90pETCCDI_yr_MPI-ESM-LR_historical_r1i1p1_1990-1992.nc outdir/3116/cmip5/output1/mpi-m/mpi-esm-lr/historical/yr/atmos/tx90petccdi/r1i1p1//tx90petccdi_yr_mpi-esm-lr_historical_r1i1p1_1990-1992.nc\" ;\n",
      "\t\t:CDO = \"Climate Data Operators version 2.0.5 (https://mpimet.mpg.de/cdo)\" ;\n",
      "}\n"
     ]
    }
   ],
   "source": [
    "ncdump -h  /scratch/b/b380001/futures/6def5135a687932d27f419a3e993b5bd68aa03425ff0378cfb7745c0aef497a5/cmip5/output1/mpi-m/mpi-esm-lr/historical/yr/atmos/yr/r1i1p1/v20230928/tx90pETCCDI/tx90pETCCDI_yr_mpi-esm-lr_historical_r1i1p1_199007020000-199207011200.nc"
   ]
  },
  {
   "cell_type": "markdown",
   "id": "cf3c52e8-1d02-4750-873e-975095956d09",
   "metadata": {},
   "source": [
    "## How can we check if the data is physically present?\n",
    "\n",
    "Sometimes it might be useful to check if we can use the data straight away or the data has to be re-created.\n",
    "The databrowser doesn't get informed about the deletion of data automoatically. For example if we delete the data again:"
   ]
  },
  {
   "cell_type": "code",
   "execution_count": 11,
   "id": "6eea7eb7-4afe-4324-b258-63d4838a6a75",
   "metadata": {
    "tags": []
   },
   "outputs": [],
   "source": [
    "rm -fr /scratch/b/b380001/futures/6def5135a687932d27f419a3e993b5bd68aa03425ff0378cfb7745c0aef497a5"
   ]
  },
  {
   "cell_type": "markdown",
   "id": "eec5f69d-40f6-43f0-8669-417171c318b9",
   "metadata": {},
   "source": [
    "the databrowser still shows the location on disk although the data doesn't exist anymore:"
   ]
  },
  {
   "cell_type": "code",
   "execution_count": 12,
   "id": "37e1b8a7-cb43-43ce-8214-3635a152e8d2",
   "metadata": {
    "tags": []
   },
   "outputs": [
    {
     "name": "stdout",
     "output_type": "stream",
     "text": [
      "/scratch/b/b380001/futures/6def5135a687932d27f419a3e993b5bd68aa03425ff0378cfb7745c0aef497a5/cmip5/output1/mpi-m/mpi-esm-lr/historical/yr/atmos/yr/r1i1p1/v20230928/tx90pETCCDI/tx90pETCCDI_yr_mpi-esm-lr_historical_r1i1p1_199007020000-199207011200.nc\n",
      "\u001b[0m\n"
     ]
    }
   ],
   "source": [
    "freva-databrowser variable=tx90petccdi"
   ]
  },
  {
   "cell_type": "markdown",
   "id": "2f8b5485-5a8c-4e4a-9260-f9ac4eba88ec",
   "metadata": {},
   "source": [
    "We can use the `check_future` method to check for the existence for futures. Every dataset that doesn't exsit anymore will be deleted from the databrowser and replaced by the special `future://` url, indicating that this dataset doesn't exist but can be recreated. We can use a `key=value` pair search facet like for the databrowser method to sub select only certain datasets:"
   ]
  },
  {
   "cell_type": "code",
   "execution_count": 13,
   "id": "78a2ee6d-e05a-4ac8-ab61-b3cfb29ff907",
   "metadata": {
    "tags": []
   },
   "outputs": [
    {
     "name": "stdout",
     "output_type": "stream",
     "text": [
      "\u001b[2;36m[13:33:00]\u001b[0m\u001b[2;36m \u001b[0m\u001b[34mINFO    \u001b[0m freva - INFO - Reset \u001b[1;36m1\u001b[0m paths                 \u001b]8;id=6425;file:///home/b/b380001/freva-dev/lib/python3.11/site-packages/freva/_futures.py\u001b\\\u001b[2m_futures.py\u001b[0m\u001b]8;;\u001b\\\u001b[2m:\u001b[0m\u001b]8;id=566505;file:///home/b/b380001/freva-dev/lib/python3.11/site-packages/freva/_futures.py#112\u001b\\\u001b[2m112\u001b[0m\u001b]8;;\u001b\\\n",
      "\u001b[0m\n"
     ]
    }
   ],
   "source": [
    "freva-futures check variable=tx90petccdi"
   ]
  },
  {
   "cell_type": "markdown",
   "id": "81fdbf1a-a6fd-4398-a1e0-cef1c98f9a59",
   "metadata": {},
   "source": [
    "Let's search for the data again:"
   ]
  },
  {
   "cell_type": "code",
   "execution_count": 14,
   "id": "1c144779-a530-46dc-b0cf-7c6556a025a5",
   "metadata": {
    "tags": []
   },
   "outputs": [
    {
     "name": "stdout",
     "output_type": "stream",
     "text": [
      "future:///scratch/b/b380001/futures/6def5135a687932d27f419a3e993b5bd68aa03425ff0378cfb7745c0aef497a5/cmip5/output1/mpi-m/mpi-esm-lr/historical/yr/atmos/1day/r1i1p1/tx90pETCCDI/tx90pETCCDI_1day_mpi-esm-lr_historical_r1i1p1_199007020000-199207011200\n",
      "\u001b[0m\n"
     ]
    }
   ],
   "source": [
    "freva-databrowser variable=tx90petccdi"
   ]
  }
 ],
 "metadata": {
  "celltoolbar": "Slideshow",
  "kernelspec": {
   "display_name": "freva-dev-bash",
   "language": "bash",
   "name": "frev-dev-bash"
  },
  "language_info": {
   "codemirror_mode": "shell",
   "file_extension": ".sh",
   "mimetype": "text/x-sh",
   "name": "bash"
  },
  "widgets": {
   "application/vnd.jupyter.widget-state+json": {
    "state": {},
    "version_major": 2,
    "version_minor": 0
   }
  }
 },
 "nbformat": 4,
 "nbformat_minor": 5
}
