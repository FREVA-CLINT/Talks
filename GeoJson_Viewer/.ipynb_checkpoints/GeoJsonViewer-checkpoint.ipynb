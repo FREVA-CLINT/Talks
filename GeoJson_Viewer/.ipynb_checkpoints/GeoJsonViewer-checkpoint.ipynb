{
 "cells": [
  {
   "cell_type": "markdown",
   "id": "f066d572",
   "metadata": {
    "slideshow": {
     "slide_type": "slide"
    }
   },
   "source": [
    "# Geojson Viewer\n",
    "A simple web based application that lets you *load* / *display* and *edit* geo reference data. "
   ]
  },
  {
   "cell_type": "markdown",
   "id": "07911151",
   "metadata": {
    "slideshow": {
     "slide_type": "fragment"
    }
   },
   "source": [
    "Requirements:\n",
    "\n",
    "- Upload GeoJSON files, containing geo-referenced features and their properties.\n",
    "- Show uploaded features and their properties on a dynamic web map.\n",
    "- Modify/*Add* existing properties for features shown on the map.\n",
    "- Save updated features with their properties to GeoJson file."
   ]
  },
  {
   "cell_type": "markdown",
   "id": "f3014d1f",
   "metadata": {
    "slideshow": {
     "slide_type": "slide"
    }
   },
   "source": [
    "## Tech Stack\n",
    "\n",
    "Ploty Dash as framework. Why?\n",
    "\n",
    "- build upon `Plotly.js` 🡲 easy and fast react UI development\n",
    "    - easy to set up via `conda`\n",
    "    - front end included\n",
    "- easy backend development using `@decorators`\n",
    "    - set up an working web application within couple of hours\n",
    "- easy to extent via data driven tech stack \n",
    "    - pandas, plotly, etc"
   ]
  },
  {
   "cell_type": "markdown",
   "id": "635cd948",
   "metadata": {
    "slideshow": {
     "slide_type": "slide"
    }
   },
   "source": [
    "### Example: Simple backend development\n",
    "```python\n",
    "\n",
    "@app.callback(\n",
    "    Output(\"graph\", \"figure\"),\n",
    "    Input(\"column1\", \"value\"),\n",
    "    Input(\"table\", \"data\"),\n",
    ")\n",
    "def display_choropleth(\n",
    "    columns: list[str | None] | None,\n",
    "    table_data: list[dict[str, Any]],\n",
    ") -> plotly.graph_objects.Figure:\n",
    "\n",
    "    location, color = cast(list[str], columns)\n",
    "    data_frame = pandas.DataFrame(table_data).astype(geo_json_obj.dtypes)\n",
    "    fig = plotly.express.choropleth(\n",
    "        data_frame,\n",
    "        geojson=geojson[[color, location, \"geometry\"]].to_json(),\n",
    "        color=color,\n",
    "        locations=location,\n",
    "        color_continuous_scale=\"Viridis\",\n",
    "        featureidkey=f\"properties.{location}\",\n",
    "    )\n",
    "    fig.update_geos(projection_type=\"orthographic\", fitbounds=\"locations\")\n",
    "    return fig\n",
    "\n",
    "```"
   ]
  },
  {
   "cell_type": "markdown",
   "id": "ae834b6a",
   "metadata": {
    "slideshow": {
     "slide_type": "slide"
    }
   },
   "source": [
    "## Features:\n",
    "\n",
    "- Easy to use tabbing layout\n",
    "- Upload or use online geo reference data sources (geojson, shape, ...)\n",
    "- Interactively display geo data on a map.\n",
    "- Adjust/Reset data sources\n",
    "- Download and save modified data to disk.\n",
    "\n",
    "## Droped Features\n",
    "- Add existing columns\n",
    "    - tedious to add data by hand for many rows"
   ]
  },
  {
   "cell_type": "markdown",
   "id": "1e97fa54",
   "metadata": {
    "slideshow": {
     "slide_type": "slide"
    }
   },
   "source": [
    "<h2>Application at work</h2>\n",
    "<div style=\"width: 1250px; position:absolute; left: -10%; font-size: 50%;\">\n",
    "    <iframe src=\"http://127.0.0.1:8050\" width=\"1200\" height=\"500\"></iframe>\n",
    "</div>"
   ]
  },
  {
   "cell_type": "code",
   "execution_count": null,
   "id": "a59b4f1a",
   "metadata": {
    "slideshow": {
     "slide_type": "skip"
    }
   },
   "outputs": [],
   "source": []
  }
 ],
 "metadata": {
  "celltoolbar": "Slideshow",
  "kernelspec": {
   "display_name": "Python 3 (ipykernel)",
   "language": "python",
   "name": "python3"
  },
  "language_info": {
   "codemirror_mode": {
    "name": "ipython",
    "version": 3
   },
   "file_extension": ".py",
   "mimetype": "text/x-python",
   "name": "python",
   "nbconvert_exporter": "python",
   "pygments_lexer": "ipython3",
   "version": "3.10.4"
  }
 },
 "nbformat": 4,
 "nbformat_minor": 5
}
