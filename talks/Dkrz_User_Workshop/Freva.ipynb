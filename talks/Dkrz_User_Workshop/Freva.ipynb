{
 "cells": [
  {
   "cell_type": "markdown",
   "id": "2ad795c9",
   "metadata": {
    "slideshow": {
     "slide_type": "slide"
    }
   },
   "source": [
    "## Freva - Data search and analysis framework for the Community"
   ]
  },
  {
   "cell_type": "markdown",
   "id": "6f1c2029",
   "metadata": {
    "slideshow": {
     "slide_type": "-"
    }
   },
   "source": [
    "<img src=\"Logo.png\" with=\"640px\"></img>"
   ]
  },
  {
   "cell_type": "markdown",
   "id": "c025b043",
   "metadata": {
    "slideshow": {
     "slide_type": "-"
    }
   },
   "source": [
    "<p style=\"color:black;font-size:18px;\">by: Brian Lewis, Christopher Kadow, Etor Lucio Eceiza, Andrej Fast, Martin Bergemann and many others</p>"
   ]
  },
  {
   "cell_type": "markdown",
   "id": "9cc014d3",
   "metadata": {
    "slideshow": {
     "slide_type": "slide"
    }
   },
   "source": [
    "<h4 style=\"text-align:center;\">Common Problem I: Finding Data</h4>\n",
    "<img src=\"Figure_01.jpg\" width=\"640px\"></img>"
   ]
  },
  {
   "cell_type": "markdown",
   "id": "01656889",
   "metadata": {
    "slideshow": {
     "slide_type": "subslide"
    }
   },
   "source": [
    "<h4 style=\"text-align:center;\">Common Problem II: Use code of others</h4>\n",
    "<img src=\"Figure_02.jpg\" width=\"640px\"></img>"
   ]
  },
  {
   "cell_type": "markdown",
   "id": "1149b078",
   "metadata": {
    "slideshow": {
     "slide_type": "subslide"
    }
   },
   "source": [
    "<h4 style=\"text-align:center;\">Common Problem III. Remember your own code</h4>\n",
    "<img src=\"Figure_02.jpg\" width=\"640px\"></img>"
   ]
  },
  {
   "cell_type": "markdown",
   "id": "a2d1b07d",
   "metadata": {
    "slideshow": {
     "slide_type": "slide"
    }
   },
   "source": [
    "* How can we search and access various datasets efficiently?\n",
    "* How can be streamline user data analysis tools reusable and reproducible?"
   ]
  },
  {
   "cell_type": "markdown",
   "id": "5334598f",
   "metadata": {
    "slideshow": {
     "slide_type": "fragment"
    }
   },
   "source": [
    "# Yet another solution - Freva framework\n",
    "\n",
    "- Freva comes with a three layer architecture"
   ]
  },
  {
   "cell_type": "markdown",
   "id": "2fc9c7c8",
   "metadata": {
    "slideshow": {
     "slide_type": "subslide"
    }
   },
   "source": [
    "<h4 style=\"text-align:center; margin-bottom: -1cm;\"></h4>\n",
    "<img src=\"Concept_Map_1.png\" with=\"540px\"></img>"
   ]
  },
  {
   "cell_type": "markdown",
   "id": "3425020b",
   "metadata": {
    "slideshow": {
     "slide_type": "fragment"
    }
   },
   "source": [
    "<p style=\"margin-bottom: -1cm;\"></p>\n",
    "<img src=\"Concept_Map_2.png\" with=\"540px\"></img>"
   ]
  },
  {
   "cell_type": "markdown",
   "id": "93900d84",
   "metadata": {
    "slideshow": {
     "slide_type": "fragment"
    }
   },
   "source": [
    "<p style=\"margin-bottom: -1cm;\"></p>\n",
    "<img src=\"Concept_Map_3.png\" with=\"540px\"></img>"
   ]
  },
  {
   "cell_type": "markdown",
   "id": "3d2f221e",
   "metadata": {
    "slideshow": {
     "slide_type": "slide"
    }
   },
   "source": [
    "## Example I: Searching and reading CMIP6 data"
   ]
  },
  {
   "cell_type": "markdown",
   "id": "8cbd32b4",
   "metadata": {
    "slideshow": {
     "slide_type": "subslide"
    }
   },
   "source": [
    "#### Python call:\n",
    "```python\n",
    "import freva\n",
    "import xarray as xr\n",
    "files = freva.databrowser(\n",
    "    project=\"cmip6\",\n",
    "    experiment=\"historical\",\n",
    "    model=\"mpi*\",\n",
    "    ensemble=\"r1i1*\",\n",
    "    variable=\"tas\",\n",
    "    time_frequency=\"mon\"\n",
    ")\n",
    "dset = xr.open_mfdataset(files, combine=\"by_coords\", parallel=True)\n",
    "```"
   ]
  },
  {
   "cell_type": "markdown",
   "id": "d56ef6ef",
   "metadata": {
    "slideshow": {
     "slide_type": "fragment"
    }
   },
   "source": [
    "#### CLI call:\n",
    "\n",
    "```bash\n",
    "⋊  freva databrowser project=cmip6 experiment=historical model='mip*' ensemble='r1i1*' time_frequency=mon variable=tas\n",
    "```"
   ]
  },
  {
   "cell_type": "markdown",
   "id": "37a11bdf",
   "metadata": {
    "slideshow": {
     "slide_type": "subslide"
    }
   },
   "source": [
    "<h4>Web UI</h4>\n",
    "<video controls loop height=\"550\">\n",
    "    <source src=\"screencast_2.webm\"type=\"video/webm\">\n",
    "    Sorry, your browser doesn't support embedded videos.\n",
    "</video>"
   ]
  },
  {
   "cell_type": "markdown",
   "id": "cdc417f8",
   "metadata": {
    "slideshow": {
     "slide_type": "subslide"
    }
   },
   "source": [
    "<h4>Inspecting metadata</h4>\n",
    "<img src=\"Figure_05.png\" with=\"640px\"></img>"
   ]
  },
  {
   "cell_type": "markdown",
   "id": "36e06cf6",
   "metadata": {
    "slideshow": {
     "slide_type": "slide"
    }
   },
   "source": [
    "## Example II: Data analysis tool / plugins"
   ]
  },
  {
   "cell_type": "markdown",
   "id": "ef88706f",
   "metadata": {
    "slideshow": {
     "slide_type": "fragment"
    }
   },
   "source": [
    "### Calculate climate change signal and uncertainty in Düren\n",
    "- Where is the data for the ensemble?\n",
    "- How to select the municipality area?\n",
    "- ..."
   ]
  },
  {
   "cell_type": "markdown",
   "id": "ff11b423",
   "metadata": {
    "slideshow": {
     "slide_type": "subslide"
    }
   },
   "source": [
    "<video controls loop height=\"650\">\n",
    "    <source src=\"screencast.webm\"type=\"video/webm\">\n",
    "    Sorry, your browser doesn't support embedded videos.\n",
    "</video>"
   ]
  },
  {
   "cell_type": "markdown",
   "id": "717ee630",
   "metadata": {
    "slideshow": {
     "slide_type": "subslide"
    }
   },
   "source": [
    "<h4>Inspecting the results</h4>\n",
    "<img src=\"Figure_06.png\" with=\"640px\"></img>"
   ]
  },
  {
   "cell_type": "markdown",
   "id": "ea02d7ed",
   "metadata": {
    "slideshow": {
     "slide_type": "slide"
    }
   },
   "source": [
    "## Setting up data analysis tools"
   ]
  },
  {
   "cell_type": "markdown",
   "id": "d63ad090",
   "metadata": {
    "slideshow": {
     "slide_type": "-"
    }
   },
   "source": [
    "- Freva plugin API is code agnostic\n",
    "- *Yet*: User defined plugins are defined and within an configured within an python API wrapper:"
   ]
  },
  {
   "cell_type": "markdown",
   "id": "da8b4164",
   "metadata": {
    "slideshow": {
     "slide_type": "subslide"
    }
   },
   "source": [
    "<p style=\"margin-bottom: -1cm; margin-top: -1cm;\"></p>\n",
    "```python\n",
    "from evaluation_system.api import plugin\n",
    "from evaluation_system.api.parameters import File, ParameterDictionary, SolrField\n",
    "class PlottingTool(plugin.PluginAbstract):\n",
    "\"\"\"Plugin that plots content of selected data.\"\"\"\n",
    "```"
   ]
  },
  {
   "cell_type": "markdown",
   "id": "80511da7",
   "metadata": {
    "slideshow": {
     "slide_type": "fragment"
    }
   },
   "source": [
    "<p style=\"margin-bottom: -0.5cm; margin-top: -0.5cm;\"></p>\n",
    "```python\n",
    "# Plugin setup\n",
    "    tool_developer = {\"name\": \"Jane Doe\", \"email\": \"Jane.Doe@example.com\"}\n",
    "    __category__ = \"support\"\n",
    "    __short_description__ = \"Plot data\"\n",
    "    __version__ = (2022, 1, 1)\n",
    "    __parameters__ = ParameterDictionary(\n",
    "        File(\n",
    "            name=\"in_file\",\n",
    "            file_extension=\"nc\",\n",
    "            mandatory=True,\n",
    "            help=\"Select the input netCDF file.\",\n",
    "        ),\n",
    "        SolrField(\n",
    "            name=\"variable\",\n",
    "            mandatory=False,\n",
    "            facet=\"variable\",\n",
    "            help=(\"Select the variables(s) to be plotted\"),\n",
    "            max_items=1,\n",
    "        )\n",
    "    )\n",
    "```"
   ]
  },
  {
   "cell_type": "markdown",
   "id": "a06d1dfa",
   "metadata": {
    "slideshow": {
     "slide_type": "fragment"
    }
   },
   "source": [
    "<p style=\"margin-bottom: -0.2cm; margin-top: -0.2cm;\"></p>\n",
    "```python\n",
    "# Workflow definition of the actual tool\n",
    " def runTool(self, setup: dict[str, str] = {}) -> None:\n",
    "        \"\"\"This method calls the actual plugin.\"\"\"\n",
    "        self.call(\n",
    "          f\"python src/plot_map.py {setup['in_file']} -v {setup['variable']}\"\n",
    "        )\n",
    "```"
   ]
  },
  {
   "cell_type": "markdown",
   "id": "99440c72",
   "metadata": {
    "slideshow": {
     "slide_type": "subslide"
    }
   },
   "source": [
    "```bash\n",
    "⋊  freva plugin -l\n",
    "Animator: Animate data on lon/lat grids\n",
    "ClimateChangeProfile: Create climate change signals.\n",
    "ClimDexCalc: Calculate the ETCCDI climate extreme indices on the\n",
    "             basis of daily temperature and precipitation data using\n",
    "             the ClimDex software provided by PCIC.\n",
    "Climpact: Process climate model data for input of impact model\n",
    "CWT: Calculate Circulation Weather Type by mean sea level pressure.\n",
    "EnsemblePlotter: Create and Plot maps of multi-model ensemble means and\n",
    "                 standard deviations\n",
    "MoviePlotter: Plots 2D lon/lat movies in GIF format\n",
    "Papermill: Parametrize a given notebook\n",
    "PlottingTool: Plot data\n",
    "```"
   ]
  },
  {
   "cell_type": "markdown",
   "id": "f85c164f",
   "metadata": {
    "slideshow": {
     "slide_type": "fragment"
    }
   },
   "source": [
    "```bash\n",
    "⋊  freva plugin plottingtool --doc                                                          \n",
    "PlottingTool (v2022.1.1): Plot data\n",
    "Options:\n",
    "in_file  (default: <undefined>) [mandatory]\n",
    "         Select the input netCDF file.\n",
    "variable (default: <undefined>)\n",
    "         Select the variables(s) to be plotted\n",
    "\n",
    "```"
   ]
  },
  {
   "cell_type": "markdown",
   "id": "d2bfbc6d",
   "metadata": {
    "slideshow": {
     "slide_type": "slide"
    }
   },
   "source": [
    "## Example III: Users adding their own data"
   ]
  },
  {
   "cell_type": "markdown",
   "id": "3f2e06b5",
   "metadata": {},
   "source": [
    "```python\n",
    "import freva\n",
    "import xarray as xr\n",
    "\n",
    "user_data = freva.UserData()\n",
    "user_data.add(\"eur-11b\", \"/tmp/my_awesome_data/outfile_?.nc\",\n",
    "              institute=\"clex\", model=\"UM-RA2T\",\n",
    "              experiment=\"Bias-correct\")\n",
    "dset = xr.open_mfdataset(freva.databrowser(experiment=\"bias*\", experiment=\"clex\"))\n",
    "```"
   ]
  },
  {
   "cell_type": "markdown",
   "id": "8e02b904",
   "metadata": {
    "slideshow": {
     "slide_type": "slide"
    }
   },
   "source": [
    "## A couple of additional features:\n",
    "- Users can search their own plugin history and other users results\n",
    "- Web UI suggests similar results on plugin config\n",
    "- Full integration of workload managers"
   ]
  },
  {
   "cell_type": "markdown",
   "id": "3ca11b56",
   "metadata": {
    "slideshow": {
     "slide_type": "slide"
    }
   },
   "source": [
    "## What's next?"
   ]
  },
  {
   "cell_type": "markdown",
   "id": "f589a7c8",
   "metadata": {
    "slideshow": {
     "slide_type": "subslide"
    }
   },
   "source": [
    "* Freva *has* to be come a RestAPI\n",
    "    * Clients are easy to implement since we only need a couple of REST calls\n",
    "* We teach freva the Common Workflow Language (cwl) via toil:\n",
    "```yaml\n",
    "cwlVersion: v1.0\n",
    "class: CommandLineTool\n",
    "hints:\n",
    "   SoftwareRequirement:\n",
    "      packages:\n",
    "      - package: cdo\n",
    "baseCommand: cdo\n",
    "```\n",
    "* We add a system for [ordering/pre-processing data](https://www-regiklim.dkrz.de/plugins/climpact/setup/)\n",
    "* We add a simple interface for intake\n"
   ]
  }
 ],
 "metadata": {
  "celltoolbar": "Slideshow",
  "kernelspec": {
   "display_name": "plotting",
   "language": "python",
   "name": "plotting"
  },
  "language_info": {
   "codemirror_mode": {
    "name": "ipython",
    "version": 3
   },
   "file_extension": ".py",
   "mimetype": "text/x-python",
   "name": "python",
   "nbconvert_exporter": "python",
   "pygments_lexer": "ipython3",
   "version": "3.10.4"
  }
 },
 "nbformat": 4,
 "nbformat_minor": 5
}
