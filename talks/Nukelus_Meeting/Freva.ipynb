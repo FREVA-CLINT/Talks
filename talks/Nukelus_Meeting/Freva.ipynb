{
 "cells": [
  {
   "cell_type": "markdown",
   "id": "2ad795c9",
   "metadata": {
    "slideshow": {
     "slide_type": "slide"
    },
    "tags": []
   },
   "source": [
    "## Freva on Levante - what's news?\n",
    "\n",
    "* Levante is operational since 3rd of March 22\n",
    "* Freva isn't quite *yet* 😢\n",
    "* 2832 CPU computing nodes: 2x AMD EPYC 64 cores @ 3.5 GHz (256 - 1024 GB RAM)\n"
   ]
  },
  {
   "cell_type": "markdown",
   "id": "c025b043",
   "metadata": {
    "slideshow": {
     "slide_type": "-"
    }
   },
   "source": [
    "<p style=\"color:black;font-size:18px;\">by: Brian Lewis, Christopher Kadow, Etor Lucio Eceiza, Mahesh Ramadoss, Martin Bergemann</p>"
   ]
  },
  {
   "cell_type": "markdown",
   "id": "9cc014d3",
   "metadata": {
    "slideshow": {
     "slide_type": "slide"
    }
   },
   "source": [
    "<img src=\"FrevaWeb1.png\" width=\"640px\"></img>"
   ]
  },
  {
   "cell_type": "markdown",
   "id": "a2d1b07d",
   "metadata": {
    "slideshow": {
     "slide_type": "slide"
    }
   },
   "source": [
    "### What have we actually done during all this time?"
   ]
  },
  {
   "cell_type": "markdown",
   "id": "6e187da9",
   "metadata": {
    "slideshow": {
     "slide_type": "fragment"
    }
   },
   "source": [
    "* updated freva core from python2 ➜ python3, (python2 EOL since 2020)\n",
    "* did a major infrastructure re-design\n",
    "  * including the plugin infrastructure\n",
    "* *added some user features*"
   ]
  },
  {
   "cell_type": "markdown",
   "id": "4a314fc6",
   "metadata": {
    "slideshow": {
     "slide_type": "slide"
    }
   },
   "source": [
    "### New features:"
   ]
  },
  {
   "cell_type": "markdown",
   "id": "8cbd32b4",
   "metadata": {
    "slideshow": {
     "slide_type": "subslide"
    }
   },
   "source": [
    "#### The freva python module:\n",
    "```python\n",
    "import freva\n",
    "import xarray as xr\n",
    "files = freva.databrowser(\n",
    "    project=\"cmip6\",\n",
    "    experiment=\"historical\",\n",
    "    model=\"mpi*\",\n",
    "    ensemble=\"r1i1*\",\n",
    "    variable=\"tas\",\n",
    "    time_frequency=\"mon\"\n",
    ")\n",
    "dset = xr.open_mfdataset(files, combine=\"by_coords\", parallel=True)\n",
    "monthly_data dset.resample(time=\"mon\").mean()\n",
    "```"
   ]
  },
  {
   "cell_type": "markdown",
   "id": "affe0c94",
   "metadata": {
    "slideshow": {
     "slide_type": "subslide"
    }
   },
   "source": [
    "<h4>Improved argument completion</h4>\n",
    "<video controls loop height=\"550\">\n",
    "    <source src=\"vokoscreen.webm\"type=\"video/webm\">\n",
    "    Sorry, your browser doesn't support embedded videos.\n",
    "</video>"
   ]
  },
  {
   "cell_type": "markdown",
   "id": "37a11bdf",
   "metadata": {
    "slideshow": {
     "slide_type": "subslide"
    }
   },
   "source": [
    "#### Other changes and add-ons:\n",
    "* Facelift for the website\n",
    "* Slight changes of the command line interface:\n",
    "    * `freva --databrowser` ➜ `freva databrowser` or `freva-databrowser` etc\n",
    "* `metadata-inspector`: `ncdump -h` on steroids \n",
    "* utility to calculate *global warming level*\n",
    "* `kernel-install`\n",
    "* `rechunk-data`"
   ]
  },
  {
   "cell_type": "markdown",
   "id": "59c4c0fe",
   "metadata": {
    "slideshow": {
     "slide_type": "slide"
    }
   },
   "source": [
    "## Data\n",
    "* More advanced data crawling mechanism allowing to add data from `/pool/data` to the `databrowser`\n",
    "* Slightly more data than before\n",
    "* `cordex-nukleus` data project ➜ 5 x 5 Model matrix nukleus recommends to the model regions \n",
    "* `nukleus` data project  ➜ Model simulations and bias corrected data."
   ]
  },
  {
   "cell_type": "markdown",
   "id": "bbae22eb",
   "metadata": {
    "slideshow": {
     "slide_type": "slide"
    }
   },
   "source": [
    "## Plugins "
   ]
  },
  {
   "cell_type": "markdown",
   "id": "d330522a",
   "metadata": {
    "slideshow": {
     "slide_type": "fragment"
    }
   },
   "source": [
    "* Most of the existing plugins have also been updated: python2 ➜ python3\n",
    "    * Few are causing hiccups for example CWT\n",
    "* Plugins are deployed in their own *anaconda* environment:\n",
    "    * Better reproducibility\n",
    "    * We offer a plugin template to get users started with the setup"
   ]
  },
  {
   "cell_type": "markdown",
   "id": "8fe5eda4",
   "metadata": {
    "slideshow": {
     "slide_type": "fragment"
    }
   },
   "source": [
    "* Most notable *new* plugins for nukleus/regiklim\n",
    "   * **EnsemblePlotter**: Create and compare mulit-model ensembles - still in prototype phase\n",
    "   * **ClimateChangeProfile**: Compare climate change signal for selected area\n",
    "   * **ClimPact**: This has actually been quite successful for model regions\n",
    "* But ... there's room for improvement"
   ]
  },
  {
   "cell_type": "markdown",
   "id": "fb0b2371",
   "metadata": {
    "slideshow": {
     "slide_type": "slide"
    }
   },
   "source": [
    "### Suggestion: Convective Cell tracking algorithm (tint)\n",
    "<img src=\"cmorph_tracks.gif\" width=\"640px\"></img>"
   ]
  },
  {
   "cell_type": "markdown",
   "id": "32446cc9",
   "metadata": {
    "slideshow": {
     "slide_type": "subslide"
    }
   },
   "source": [
    "#### Studying Convective Extreme Events (Hector the convector)\n",
    "<img src=\"Tiwi_tracks.png\" width=\"640px\"></img>"
   ]
  },
  {
   "cell_type": "markdown",
   "id": "9afce7aa",
   "metadata": {
    "slideshow": {
     "slide_type": "subslide"
    }
   },
   "source": [
    "<img src=\"Tiwi_tracks_2.png\" width=\"480px\"></img>"
   ]
  },
  {
   "cell_type": "markdown",
   "id": "9776e6f1",
   "metadata": {
    "slideshow": {
     "slide_type": "slide"
    }
   },
   "source": [
    "## A few other things to think about\n",
    "* We have 20 TB cloud storage - let's make use of it!\n",
    "* Do we really need 3 hourly, 6 hourly, daily and monthly data if we have *hourly* data?\n",
    "* I think we do want to move away from *redmine* as a documentation platform."
   ]
  },
  {
   "cell_type": "code",
   "execution_count": null,
   "id": "49d38524",
   "metadata": {
    "slideshow": {
     "slide_type": "skip"
    }
   },
   "outputs": [],
   "source": []
  }
 ],
 "metadata": {
  "celltoolbar": "Slideshow",
  "kernelspec": {
   "display_name": "Plotting for (plotting)",
   "language": "python",
   "name": "plotting"
  },
  "language_info": {
   "codemirror_mode": {
    "name": "ipython",
    "version": 3
   },
   "file_extension": ".py",
   "mimetype": "text/x-python",
   "name": "python",
   "nbconvert_exporter": "python",
   "pygments_lexer": "ipython3",
   "version": "3.10.2"
  }
 },
 "nbformat": 4,
 "nbformat_minor": 5
}
