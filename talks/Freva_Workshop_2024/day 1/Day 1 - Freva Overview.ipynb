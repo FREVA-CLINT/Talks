{
 "cells": [
  {
   "cell_type": "markdown",
   "metadata": {
    "slideshow": {
     "slide_type": "slide"
    }
   },
   "source": [
    "<img src=\"media/freva_overview/freva-people.jpg\" alt=\"freva people\" width=\"1000\" align=\"center\" style=\"opacity: 0.5;\">\n",
    "\n",
    "# Introduction to Freva <img src=\"media/freva_overview/freva-logo.png\" alt=\"freva logo\" width=\"70\" align=\"center\">\n",
    "\n",
    "\n",
    "**Martin Bergemann, Bijan Fallah, Andrej Fast, Mostafa Hadizadeh, \n",
    "Christopher Kadow, Etor E. Lucio-Eceiza,  Felix Oertel, Manuel Reis, and many others…**\n",
    "\n",
    "Deutsches Klimarechenzentrum @ CLINT in Data Analysis Dpt. (+ Data Management Dpt.*)\n",
    "\n",
    "<img src=\"media/freva_overview/logo-fona-dkrz.jpg\" alt=\"freva people\" width=\"400\" align=\"right\">"
   ]
  },
  {
   "cell_type": "markdown",
   "metadata": {
    "slideshow": {
     "slide_type": "slide"
    }
   },
   "source": [
    "## Common Problem I: Finding Data\n",
    "<img src=\"media/freva_overview/problem-data.png\" alt=\"data\" width=\"600\" align=\"center\" style=\"box-shadow: 5px 5px 5px lightgray;\">"
   ]
  },
  {
   "cell_type": "markdown",
   "metadata": {
    "slideshow": {
     "slide_type": "subslide"
    }
   },
   "source": [
    "## Common Problem II: Using code of others\n",
    "<img src=\"media/freva_overview/problem-usability.png\" alt=\"code\" width=\"600\" align=\"center\" style=\"box-shadow: 5px 5px 5px lightgray;\">"
   ]
  },
  {
   "cell_type": "markdown",
   "metadata": {
    "slideshow": {
     "slide_type": "subslide"
    }
   },
   "source": [
    "## Common Problem III: Reproducing your results\n",
    "<img src=\"media/freva_overview/problem-reproducibility.png\" alt=\"reproduce\" width=\"600\" align=\"center\" style=\"box-shadow: 5px 5px 5px lightgray;\">"
   ]
  },
  {
   "cell_type": "markdown",
   "metadata": {
    "slideshow": {
     "slide_type": "subslide"
    }
   },
   "source": [
    "* How can we search and access various datasets efficiently?\n",
    "* How can we streamline user data analysis tools (reusable and reproducible)?"
   ]
  },
  {
   "cell_type": "markdown",
   "metadata": {
    "slideshow": {
     "slide_type": "fragment"
    }
   },
   "source": [
    "## Yet another solution: The Freva framework <img src=\"media/freva_overview/freva-logo.png\" alt=\"freva logo\" width=\"70\" align=\"center\">\n",
    "\n",
    "<div style=\"display: flex;\">\n",
    "  <div style=\"flex: 1; padding-right: 10px;\">\n",
    "    <ul>\n",
    "      <li>Flexibility</li>\n",
    "      <li>Standardisation</li>\n",
    "    </ul>\n",
    "  </div>\n",
    "  <div style=\"flex: 1; padding-left: 10px;\">\n",
    "    <ul>\n",
    "      <li>Centralisation</li>\n",
    "      <li>Transparency</li>\n",
    "    </ul>\n",
    "  </div>\n",
    "</div>\n"
   ]
  },
  {
   "cell_type": "markdown",
   "metadata": {
    "slideshow": {
     "slide_type": "slide"
    }
   },
   "source": [
    "## Let's get an overview...\n",
    "\n",
    "<img src=\"media/freva_overview/freva-flowchart_basic.png\" alt=\"freva people\" width=\"400\" align=\"center\">"
   ]
  },
  {
   "cell_type": "markdown",
   "metadata": {
    "slideshow": {
     "slide_type": "subslide"
    }
   },
   "source": [
    "## Flexible access <img src=\"media/freva_overview/freva-accessibility.png\" alt=\"freva access\" width=\"200\" align=\"center\">\n",
    "<div style=\"display: flex; justify-content: space-between; align-items: center;\">\n",
    "  <div style=\"text-align: left; width: 50%;\">\n",
    "    <p>Freva is a (mainly) Python3 framework</p>\n",
    "    <p>Running at DKRZ's HPC, it comes in 3 flavours</p>\n",
    "    <ul>\n",
    "      <li>Command Line Interface (cli)</li>\n",
    "      <li>Web User Interface</li>\n",
    "      <li>Python module</li>\n",
    "    </ul>    \n",
    "    <p>Each interface offers similar and interconnected features</p>    \n",
    "  </div>\n",
    "  <div style=\"text-align: right; width: 50%;\">\n",
    "    <img src=\"https://swift.dkrz.de/v1/dkrz_d0859f7c-0da8-41c7-824d-58b3765f5ec4/freva_workshop_202406/animations/freva_jupyter_databrowser.gif?temp_url_sig=5724e51d563103eb80efaf5197d34b95a1d83f5e&temp_url_expires=2029-06-25T10:06:38Z\" alt=\"parts\" align=\"center\" style=\"position: absolute; top: 200px; left: 500px; width: 600px; height: auto;\">         \n",
    "  </div>\n",
    "</div>"
   ]
  },
  {
   "cell_type": "markdown",
   "metadata": {
    "slideshow": {
     "slide_type": "subslide"
    }
   },
   "source": [
    "## Standardized data <img src=\"media/freva_overview/freva-data.png\" alt=\"freva access\" width=\"100\" align=\"center\">\n",
    "<div style=\"display: flex; justify-content: space-between; align-items: center;\">\n",
    "  <div style=\"text-align: left; width: 50%;\">\n",
    "    <ul>\n",
    "      <li>CMOR, maps FROM/TO several ESGF standards (CMIP6, CORDEX, pseudoCMIP5, nextgems flavours </li>\n",
    "      <li>Data ingested via SOLR Apache</li>\n",
    "      <li>Millions of files available (>10 million)</li>\n",
    "      <li>Intuitive queries & Fast results</li>\n",
    "      <li>Metadata previsualisation</li>\n",
    "      <li>Time selection</li>\n",
    "      <li>Generates reproducible freva command & URL</li>\n",
    "      <li>Indexation of POSIX files, tape archive and intake catalogs & multiple formats (netcdf, zarr…) </li>\n",
    "    </ul>\n",
    "  </div>\n",
    "  <div style=\"text-align: right; width: 50%;\">\n",
    "    <img src=\"https://swift.dkrz.de/v1/dkrz_d0859f7c-0da8-41c7-824d-58b3765f5ec4/freva_workshop_202406/animations/freva_databrowser_CLI.gif?temp_url_sig=e8a9b30f892c1cd0adb9f3adb6243a20468f6f2d&temp_url_expires=2029-06-25T10:03:38Z\" alt=\"parts\" align=\"center\" style=\"position: absolute; top: 150px; left: 600px; width: 500px; height: 500px;\"> \n",
    "    <img src=\"https://swift.dkrz.de/v1/dkrz_d0859f7c-0da8-41c7-824d-58b3765f5ec4/freva_workshop_202406/animations/freva_web_databrowser.gif?temp_url_sig=0efad95be935d96c0e8f3490af4d1902014effd8&temp_url_expires=2029-06-25T10:09:09Z\" alt=\"parts\" align=\"center\" style=\"position: absolute; top: 300px; left: 600px; width: 500px; height: 500px;\">\n",
    "    <img src=\"media/freva_overview/blank-plot.jpg\" alt=\"parts\" align=\"center\" style=\"position: absolute; top: 650px; left: 600px; width: 500px; height: 500px;\">    \n",
    "  </div>\n",
    "</div>"
   ]
  },
  {
   "cell_type": "markdown",
   "metadata": {
    "slideshow": {
     "slide_type": "subslide"
    }
   },
   "source": [
    "## Easy incorporation of tools <img src=\"media/freva_overview/freva-plugins.png\" alt=\"freva access\" width=\"70\" align=\"center\">\n",
    "\n",
    "* Flexible programming language: NO specific language (<span style=\"color: red;\">only free software!</span>)\n",
    "* Standardised API in python 3: no need to know all the code environments\n",
    "\n"
   ]
  },
  {
   "cell_type": "markdown",
   "metadata": {
    "slideshow": {
     "slide_type": "fragment"
    }
   },
   "source": [
    "1. **Tool**: ANY language (python, R, C, FORTRAN, a mix...)\n",
    "\n",
    "<pre style=\"color: black; background-color: #f8f8f8;\">\n",
    "<span style=\"color: #f702ee;\">./movie_plotter.sh</span> <span style=\"color: red;\">/path/2/INPUT</span> <span style=\"color: purple;\">/path/2/OUTPUT</span></pre>\n"
   ]
  },
  {
   "cell_type": "markdown",
   "metadata": {
    "slideshow": {
     "slide_type": "fragment"
    }
   },
   "source": [
    "2. Plugin API (**Wrapper**): in python\n",
    "\n",
    "<pre style=\"color: black; background-color: #f8f8f8;\">\n",
    "<span style=\"color: #008000;\">from</span> <span style=\"color: #0000ff;\">evaluation_system.api</span> <span style=\"color: #008000;\">import</span> <span style=\"color: #0000ff;\">plugin</span>\n",
    "<span style=\"color: #008000;\">from</span> <span style=\"color: #0000ff;\">evaluation_system.api.parameters</span> <span style=\"color: #008000;\">import</span> (<span style=\"color: #0000ff;\">ParameterDictionary</span> <span style=\"color: #008000;\">as</span> <span style=\"color: #0000ff;\">ParamDict</span>, <span style=\"color: #0000ff;\">String</span>)\n",
    "\n",
    "<span style=\"color: #008000;\">class</span> <span style=\"color: #f702ee;\">MoviePlotter</span>(<span style=\"color: #0000ff;\">plugin.PluginAbstract</span>):\n",
    "    __short_description__ = <span style=\"color: #a31515;\">\"Plots 2D lon/lat movies in GIF format\"</span>\n",
    "    __version__ = (0,0,1)\n",
    "    __parameters__ = <span style=\"color: #0000ff;\">ParamDict</span>(\n",
    "      <span style=\"color: #0000ff;\">String</span>(name=<span style=\"color: red;\">'input'</span>, default=<span style=\"color: #008000;\">None</span>, mandatory=<span style=\"color: #0000ff;\">True</span>, help=<span style=\"color: #a31515;\">'File to plot'</span>), \n",
    "      <span style=\"color: #0000ff;\">String</span>(name=<span style=\"color: purple;\">'outputdir'</span>, default=<span style=\"color: #008000;\">None</span>, mandatory=<span style=\"color: #0000ff;\">True</span>, help=<span style=\"color: #a31515;\">'default output dir'</span>)\n",
    "    )\n",
    "    <span style=\"color: #008000;\">def</span> run_tool(self, config_dict=<span style=\"color: #008000;\">None</span>):\n",
    "        <span style=\"color: red;\">input</span>  = config_dict[<span style=\"color: red;\">'input'</span>]\n",
    "        <span style=\"color: purple;\">outputdir</span> = config_dict[<span style=\"color: purple;\">'outputdir'</span>]\n",
    "        self.call(f'{self.class_basedir}/<span style=\"color: #f702ee;\">movie_plotter.sh</span> {<span style=\"color: red;\">input</span>} {<span style=\"color: purple;\">outputdir</span>}')\n",
    "        <span style=\"color: #008000;\">return</span> self.prepare_output(config_dict[<span style=\"color: purple;\">'outputdir'</span>])\n",
    "</pre>"
   ]
  },
  {
   "cell_type": "markdown",
   "metadata": {
    "slideshow": {
     "slide_type": "fragment"
    }
   },
   "source": [
    "3. **Freva command**:\n",
    "\n",
    "<pre style=\"color: black; background-color: #f8f8f8;\">\n",
    "<span style=\"color: #008000;\">freva</span> <span style=\"color: #0000ff;\">plugin</span> <span style=\"color: #f702ee;\">MoviePlotter</span> <span style=\"color: #0000ff;\">input</span>=<span style=\"color: red;\">/foo/bar.nc</span> <span style=\"color: #0000ff;\">outputdir</span>=<span style=\"color: purple;\">/path/2/OUTPUT</span>\n",
    "</pre>"
   ]
  },
  {
   "cell_type": "markdown",
   "metadata": {
    "slideshow": {
     "slide_type": "fragment"
    }
   },
   "source": [
    "<img src=\"media/freva_overview/plugin-examples.jpg\" alt=\"parts\" align=\"center\" style=\"position: absolute; top: 180px; left: 730px; width: 300px; height: auto; box-shadow: 5px 5px 5px lightgray;\"> "
   ]
  },
  {
   "cell_type": "markdown",
   "metadata": {
    "slideshow": {
     "slide_type": "subslide"
    }
   },
   "source": [
    "## Transparency & reproducibility <img src=\"media/freva_overview/freva-transparency.png\" alt=\"freva access\" width=\"200\" align=\"center\">\n",
    "<div style=\"display: flex; justify-content: space-between; align-items: center;\">\n",
    "  <div style=\"text-align: left; width: 50%;\">\n",
    "    <ul>\n",
    "      <li>Every config stored in a (MariaDB) database </li>\n",
    "      <li>Every config is searchable</li>\n",
    "      <li>Every config can be modified & re-run</li>\n",
    "      <li>History stores plugin & Freva system Git versioning!</li>\n",
    "      <li>Saves CPU hours, I/O and storage!</li>\n",
    "    </ul>\n",
    "    <p>Additionally:</p>\n",
    "    <ul>          \n",
    "      <li>Results can be shared and commented</li>\n",
    "      <li>Config compared with previous similar runs</li>\n",
    "    </ul>\n",
    "  </div>\n",
    "  <div style=\"text-align: right; width: 50%;\">\n",
    "    <img src=\"https://swift.dkrz.de/v1/dkrz_d0859f7c-0da8-41c7-824d-58b3765f5ec4/freva_workshop_202406/animations/freva_web_history_and_result-browser.gif?temp_url_sig=88807433f3db77ced775c5f63793fd7539853104&temp_url_expires=2029-06-25T10:10:30Z\" alt=\"parts\" align=\"center\" style=\"position: absolute; top: 200px; left: 600px; width: 500px; height: auto;\">     \n",
    "  </div>\n",
    "</div>"
   ]
  },
  {
   "cell_type": "markdown",
   "metadata": {
    "slideshow": {
     "slide_type": "slide"
    }
   },
   "source": [
    "## ... And there is more\n",
    "\n",
    "<img src=\"media/freva_overview/freva-flowchart_plus.png\" alt=\"freva people\" width=\"600\" align=\"center\">\n",
    "\n"
   ]
  },
  {
   "cell_type": "markdown",
   "metadata": {
    "slideshow": {
     "slide_type": "subslide"
    }
   },
   "source": [
    "## A development environment <img src=\"media/freva_overview/freva-how-to-plug.png\" alt=\"freva access\" width=\"120\" align=\"center\"> \n",
    "\n",
    "<div style=\"display: flex; justify-content: space-between; align-items: center;\">\n",
    "  <div style=\"text-align: left; width: 50%;\">\n",
    "    <p>One can test a plugin without interference:</p>  \n",
    "    <ul>\n",
    "      <li>It exists? locally overwrite </li>\n",
    "      <li>Is new? locally plug in</li>\n",
    "    </ul>\n",
    "    <p>Similar behaviour with the cli:</p>\n",
    "    <ul>          \n",
    "      <li>To plug: <code>export EVALUATION_SYSTEM_PLUGINS</code> environment variable</li>\n",
    "      <li>multiple local plugs allowed</li>\n",
    "    </ul>\n",
    "  </div>\n",
    "  <div style=\"text-align: right; width: 50%;\">\n",
    "    <img src=\"https://swift.dkrz.de/v1/dkrz_d0859f7c-0da8-41c7-824d-58b3765f5ec4/freva_workshop_202406/animations/freva_CLI_plugins.gif?temp_url_sig=8b3d115fdf054ea0c483a0a0ad6546ccfabb17e7&temp_url_expires=2029-06-25T09:57:21Z\" alt=\"parts\" align=\"center\" style=\"position: absolute; top: 150px; left: 600px; width: 500px; height: 500px;\"> \n",
    "    <img src=\"https://swift.dkrz.de/v1/dkrz_d0859f7c-0da8-41c7-824d-58b3765f5ec4/freva_workshop_202406/animations/freva_web_plugins.gif?temp_url_sig=1bb6567d4a988953c05768d9299a9dbf9705a725&temp_url_expires=2029-06-25T10:12:01Z\" alt=\"parts\" align=\"center\" style=\"position: absolute; top: 320px; left: 600px; width: 500px; height: auto;\">\n",
    "    <img src=\"media/freva_overview/blank-plot.jpg\" alt=\"parts\" align=\"center\" style=\"position: absolute; top: 650px; left: 600px; width: 500px; height: 500px;\">      \n",
    "  </div>\n",
    "</div>"
   ]
  },
  {
   "cell_type": "markdown",
   "metadata": {
    "slideshow": {
     "slide_type": "subslide"
    }
   },
   "source": [
    "<h2>Plugin &rarr; Database &rarr; Plugin <img src=\"media/freva_overview/freva-link-my-data.png\" alt=\"freva access\" width=\"100\" align=\"center\"></h2>\n",
    "<b>1.</b> Special Freva function in the plugin wrapper to add outputs in databrowser:\n",
    "<div style=\"display: flex;\">\n",
    "  <div style=\"flex: 1; padding-right: 15px;\">\n",
    "<small><pre style=\"background-color: #f8f8f8; font-family: monospace; color: black;\">\n",
    "    <code>\n",
    "<span style=\"color: #0000ff;\">if</span> config_dict[<span style=\"color: #a31515;\">\"link2database\"</span>] <span style=\"color: #0000ff;\">is</span> <span style=\"color: #008000;\">True</span>:\n",
    "    self.<span style=\"color: magenta;\"><b>add_output_to_databrowser</b></span>(outputdir, project=config_dict[<span style=\"color: #a31515;\">\"project\"</span>], product=config_dict[<span style=\"color: #a31515;\">\"product\"</span>],)\n",
    "    </code>\n",
    "</pre></small></div>\n",
    "<div style=\"flex: 1; padding-right: 15px;\"><img src=\"media/freva_overview/link2database.jpg\" alt=\"freva access\" width=\"260\" align=\"center\" style=\"box-shadow: 5px 5px 5px lightgray;\"></div>"
   ]
  },
  {
   "cell_type": "markdown",
   "metadata": {
    "slideshow": {
     "slide_type": "fragment"
    }
   },
   "source": [
    "<div style=\"display: flex;\">\n",
    "  <div style=\"flex: 1; padding-right: 15px;\">\n",
    "<b>2.</b> Result now is part of the users database:</p>\n",
    "</div>\n",
    "<div style=\"display: flex;\">\n",
    "  <div style=\"flex: 1; padding-right: 15px;\">\n",
    "<img src=\"media/freva_overview/user-data.jpg\" alt=\"freva access\" width=\"400\" align=\"center\" style=\"box-shadow: 5px 5px 5px lightgray;\"></div>"
   ]
  },
  {
   "cell_type": "markdown",
   "metadata": {
    "slideshow": {
     "slide_type": "fragment"
    }
   },
   "source": [
    "<div style=\"display: flex;\">\n",
    "  <div style=\"flex: 1; padding-right: 15px;\">\n",
    "<b>3.</b> Ready as input for new plugin:</p>\n",
    "</div>\n",
    "<div style=\"display: flex;\">\n",
    "  <div style=\"flex: 1; padding-right: 15px;\">\n",
    "<img src=\"media/freva_overview/user-indata-plugin.jpg\" alt=\"freva access\" width=\"400\" align=\"center\" style=\"box-shadow: 5px 5px 5px lightgray;\"></div>"
   ]
  },
  {
   "cell_type": "markdown",
   "metadata": {
    "slideshow": {
     "slide_type": "subslide"
    }
   },
   "source": [
    "<!DOCTYPE html>\n",
    "<html lang=\"en\">\n",
    "<head>\n",
    "    <meta charset=\"UTF-8\">\n",
    "    <meta name=\"viewport\" content=\"width=device-width, initial-scale=1.0\">\n",
    "    <title>Freva Docu</title>\n",
    "    <style>\n",
    "        h2 {\n",
    "            margin-bottom: -200px; /* Adjust as needed */\n",
    "        }\n",
    "        .content-block {\n",
    "            margin-top: -50px;  /* Adjust as needed */\n",
    "            margin-bottom: -50px; /* Adjust as needed */\n",
    "        }\n",
    "    </style>\n",
    "</head>\n",
    "<body>\n",
    "    <h2>How to use Freva? <img src=\"media/freva_overview/freva-docu.png\" alt=\"freva access\" width=\"70\" align=\"center\"></h2>\n",
    "    <div class=\"content-block\" style=\"display: flex; justify-content: space-between; align-items: center;\">\n",
    "        <div style=\"text-align: left; width: 40%;\">\n",
    "            <a href=\"https://freva-clint.github.io/freva/index.html\">Freva framework:</a>\n",
    "            <ul>\n",
    "                <li>Extensive documentation, updated regularly</li>\n",
    "                <li>Accessible from every <a href=\"https://www.freva.dkrz.de/plugins/about/\">Freva web interface</a></li>\n",
    "            </ul>\n",
    "        </div>\n",
    "        <div style=\"text-align: right; width: 60%;\">\n",
    "            <img src=\"media/freva_overview/frevacode-docu.jpg\" alt=\"parts\" width=\"600\" align=\"center\">\n",
    "        </div>\n",
    "    </div>\n",
    "</body>\n",
    "</html>\n"
   ]
  },
  {
   "cell_type": "markdown",
   "metadata": {
    "slideshow": {
     "slide_type": "fragment"
    }
   },
   "source": [
    "<!DOCTYPE html>\n",
    "<html lang=\"en\">\n",
    "<head>\n",
    "    <meta charset=\"UTF-8\">\n",
    "    <meta name=\"viewport\" content=\"width=device-width, initial-scale=1.0\">\n",
    "    <title>Freva Docu</title>\n",
    "    <style>\n",
    "        h2 {\n",
    "            margin-bottom: -200px; /* Adjust as needed */\n",
    "        }\n",
    "        .content-block {\n",
    "            margin-top: -20px;  /* Adjust as needed */\n",
    "            margin-bottom: -20px; /* Adjust as needed */\n",
    "        }\n",
    "    </style>\n",
    "</head>\n",
    "<body>\n",
    "    <div class=\"content-block\" style=\"display: flex; justify-content: space-between; align-items: center;\">\n",
    "        <div style=\"text-align: left; width: 40%;\">\n",
    "            <a href=\"https://www.freva.dkrz.de/plugins/\">Freva plugins:</a>\n",
    "            <ul>\n",
    "                <li>Plugins have <a href=\"https://www.freva.dkrz.de/plugins/climpactsci/detail/\">short descriptions</a></li>\n",
    "                <li>Setups have <a href=\"https://www.freva.dkrz.de/plugins/climpactsci/setup/\">detailed configuration info</a></li>\n",
    "                <li>Many plugins have <a href=\"https://www.freva.dkrz.de/about/climpactSCI/\">documentation pages</a></li>\n",
    "            </ul>\n",
    "        </div>\n",
    "        <div style=\"text-align: right; width: 60%;\">\n",
    "            <img src=\"media/freva_overview/plugin-docu.jpg\" alt=\"parts\" width=\"600\" align=\"center\">\n",
    "        </div>\n",
    "    </div>\n",
    "</body>\n",
    "</html>\n"
   ]
  },
  {
   "cell_type": "markdown",
   "metadata": {
    "slideshow": {
     "slide_type": "subslide"
    }
   },
   "source": [
    "<!DOCTYPE html>\n",
    "<html lang=\"en\">\n",
    "<head>\n",
    "    <meta charset=\"UTF-8\">\n",
    "    <meta name=\"viewport\" content=\"width=device-width, initial-scale=1.0\">\n",
    "    <title>Freva Usage</title>\n",
    "    <style>\n",
    "        h2 {\n",
    "            margin-bottom: -200px; /* Adjust as needed */\n",
    "        }\n",
    "        .content-block {\n",
    "            margin-top: -20px;  /* Adjust as needed */\n",
    "            margin-bottom: -20px; /* Adjust as needed */\n",
    "        }\n",
    "    </style>\n",
    "</head>\n",
    "<body>\n",
    "    <h2>What's next? <img src=\"media/freva_overview/freva-next.png\" alt=\"freva access\" width=\"90\" align=\"center\"></h2>\n",
    "    <div class=\"content-block\" style=\"display: flex; justify-content: space-between; align-items: center;\">\n",
    "        <div style=\"text-align: left; width: 50%;\">\n",
    "            <ul>\n",
    "                <li><b><a href=\"https://freva-clint.github.io/freva/api/APIRef.html\">Freva RestAPI:</a></b> allows connection with solr to search for data in many languages (working!)</li>\n",
    "                <li><b><a href=\"https://freva-clint.github.io/freva-nextgen/index.html\">Freva Client:</a></b> freva library for data search, for python and cli (working!)</a></li>\n",
    "                <li><b>Data streaming:</b> allows to stream data in zarr from anywhere (filesystem, cloud, tape archive) (WIP)</li>   \n",
    "                <li><b>Freva Futures:</b> registering a dataset that will exist in the future (WIP)</li>\n",
    "                <li><b>Freva workflows:</b> an efficient way to connect plugins (e.g. via CWL, concept)</li>\n",
    "                <li>...</li>          \n",
    "            </ul>\n",
    "        </div>\n",
    "        <div style=\"text-align: right; width: 50%;\">\n",
    "            <img src=\"media/freva_overview/freva-whatisnext.jpg\" alt=\"parts\" width=\"600\" align=\"center\">\n",
    "        </div>\n",
    "    </div>\n",
    "</body>\n",
    "</html>"
   ]
  },
  {
   "cell_type": "markdown",
   "metadata": {
    "slideshow": {
     "slide_type": "slide"
    }
   },
   "source": [
    "<style>\n",
    ".bbox {\n",
    "  width: 1000px;\n",
    "  margin: 0 auto;\n",
    "  padding: 10px 0;\n",
    "  border: 5px solid #005092;\n",
    "  margin: 0;\n",
    "  background: #005092;\n",
    "  font-size: 30pt;\n",
    "  color: white;\n",
    "</style>\n",
    "\n",
    "<img src=\"media/freva_overview/freva-people.jpg\" alt=\"freva people\" width=\"1000px\" style=\"opacity: 0.5;\">\n",
    "\n",
    "<div class=\"bbox\">Thanks for your attention!</div>\n",
    "\n",
    "Contact: <a href=\"mailto:freva@dkrz.de\">freva@dkrz.de</a>\n",
    "\n",
    "Documentation: <a href=\"https://freva-clint.github.io/freva/\" target=\"_blank\">https://freva-clint.github.io/freva/</a>\n",
    "\n",
    "Workshop GitLab Repository: <a href=\"https://gitlab.dkrz.de/freva/freva_workshop\" target=\"_blank\">https://gitlab.dkrz.de/freva/freva_workshop</a>\n"
   ]
  },
  {
   "cell_type": "markdown",
   "metadata": {},
   "source": []
  }
 ],
 "metadata": {
  "kernelspec": {
   "display_name": "Bash",
   "language": "bash",
   "name": "bash"
  },
  "language_info": {
   "name": "bash"
  }
 },
 "nbformat": 4,
 "nbformat_minor": 2
}
